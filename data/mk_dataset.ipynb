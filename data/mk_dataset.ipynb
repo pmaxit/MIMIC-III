{
 "cells": [
  {
   "cell_type": "code",
   "execution_count": 1,
   "metadata": {
    "ExecuteTime": {
     "end_time": "2020-04-21T02:38:20.239252Z",
     "start_time": "2020-04-21T02:38:20.134871Z"
    }
   },
   "outputs": [],
   "source": [
    "%load_ext autoreload\n",
    "%autoreload 2"
   ]
  },
  {
   "cell_type": "code",
   "execution_count": 2,
   "metadata": {
    "ExecuteTime": {
     "end_time": "2020-04-21T02:40:00.279968Z",
     "start_time": "2020-04-21T02:40:00.132571Z"
    }
   },
   "outputs": [],
   "source": [
    "import sys\n",
    "sys.path.insert(0, '../src')"
   ]
  },
  {
   "cell_type": "code",
   "execution_count": 3,
   "metadata": {
    "ExecuteTime": {
     "end_time": "2020-04-21T02:40:01.934310Z",
     "start_time": "2020-04-21T02:40:01.749824Z"
    }
   },
   "outputs": [],
   "source": [
    "import seaborn as sns\n",
    "import vectorize"
   ]
  },
  {
   "cell_type": "code",
   "execution_count": 4,
   "metadata": {
    "ExecuteTime": {
     "end_time": "2020-04-21T02:40:11.264002Z",
     "start_time": "2020-04-21T02:40:07.150253Z"
    }
   },
   "outputs": [],
   "source": [
    "from fastai2 import *\n",
    "from fastai2.text.all import *\n",
    "import pandas as pd\n",
    "import helpers"
   ]
  },
  {
   "cell_type": "code",
   "execution_count": 5,
   "metadata": {
    "ExecuteTime": {
     "end_time": "2020-04-21T02:40:11.514664Z",
     "start_time": "2020-04-21T02:40:11.264934Z"
    }
   },
   "outputs": [],
   "source": [
    "root_path = Path(\"Z:\\\\Hackathon 2019 #2_CSDA\\\\MIMIC-III Data\")"
   ]
  },
  {
   "cell_type": "markdown",
   "metadata": {
    "ExecuteTime": {
     "end_time": "2020-04-19T15:37:39.525190Z",
     "start_time": "2020-04-19T15:37:39.512154Z"
    }
   },
   "source": [
    "# Context\n",
    "\n",
    "## Electronic Medical Records and Coding\n",
    "\n",
    "Health Information systems are used at a large scale in the healthcare institutions and hospitals for various tasks, such as medical record management, medical prescription, and billing. As a result, increasing large volumnes of healthcare data are regularly generated in form of Electronic medical records ( EMR ) . In this regard, textual data has a promiment place. \n",
    "\n",
    "\n",
    "One prominent task involves charcaterizing patient's hopsital stay (sympotons, diagnoses, treatments etc) by a small number of codes called **ICD 9 codes**\n"
   ]
  },
  {
   "cell_type": "markdown",
   "metadata": {},
   "source": [
    "## ICD 9 Coding\n",
    "\n",
    "ICD 9 coding system is based on WHO guidelines. One ICD-9 code indicates a classification of disease, diagnositc or treatment procedure, injury, sympton or information from patient history. Codes are structured hierarchically where top level categories are more generic ( e.g. neoplasm or disease in respiratory system ) and lower level codes indicate specific diseases ( e.g. breast cancer, pneumonia ). Higher level codes are only 3 digits while lower level codes are 4,5 digits with a decimal after 3rd digit. These codes are distributed such that a minority of the codes make up a majority of the distribution of label.\n",
    "\n",
    "Because there are 6,198 codes our predictive power will be severly diminished for codes which do not often show up, We mapped all codes to their top level representation in the ICD-9, which level 19 top level ICD-9 codes 2b. \n",
    "\n",
    "\n",
    "## Discharge notes.\n",
    "Length of the notes also vary which can create additional problem for modelling. Notes are also laden with medical jargon not common in other corpora, as well as misspellings."
   ]
  },
  {
   "cell_type": "markdown",
   "metadata": {},
   "source": [
    "# Data preparation from MIMIC database"
   ]
  },
  {
   "cell_type": "markdown",
   "metadata": {},
   "source": [
    "### Notes\n",
    "\n",
    "The MIMIC notes table contains all de-identify texts for patients and contain many type of reports (ECG, radio, nurse... ) . Among those only the discharge summary has been extracted"
   ]
  },
  {
   "cell_type": "markdown",
   "metadata": {},
   "source": [
    "### ICD codes\n",
    "\n",
    "TO guaranty representation of teh codes, prediction task will concern ICD categories ( level just upon the codes in the heirarchy) and only ICD categories that has atleast 1000 occurences have been selected"
   ]
  },
  {
   "cell_type": "markdown",
   "metadata": {},
   "source": [
    "### Training & Test set"
   ]
  },
  {
   "cell_type": "markdown",
   "metadata": {},
   "source": [
    "Among the 59,652 hospital admissions with both a discharge summary and ICD codes available. 51,300 have been selected based on code frquencies. Data was split into 41,453 annoted discharge summaries for training and 10,364 summaries for test"
   ]
  },
  {
   "cell_type": "code",
   "execution_count": 7,
   "metadata": {
    "ExecuteTime": {
     "end_time": "2020-04-21T02:40:15.272727Z",
     "start_time": "2020-04-21T02:40:14.994918Z"
    }
   },
   "outputs": [
    {
     "data": {
      "text/plain": [
       "(#9) [Path('Z:/Hackathon 2019 #2_CSDA/MIMIC-III Data/DIAGNOSES_ICD.csv'),Path('Z:/Hackathon 2019 #2_CSDA/MIMIC-III Data/CPTEVENTS.csv'),Path('Z:/Hackathon 2019 #2_CSDA/MIMIC-III Data/ADMISSIONS.csv'),Path('Z:/Hackathon 2019 #2_CSDA/MIMIC-III Data/OUTPUTEVENTS.csv'),Path('Z:/Hackathon 2019 #2_CSDA/MIMIC-III Data/NOTEEVENTS.csv'),Path('Z:/Hackathon 2019 #2_CSDA/MIMIC-III Data/DRGCODES.csv'),Path('Z:/Hackathon 2019 #2_CSDA/MIMIC-III Data/Zipped'),Path('Z:/Hackathon 2019 #2_CSDA/MIMIC-III Data/PATIENTS.csv'),Path('Z:/Hackathon 2019 #2_CSDA/MIMIC-III Data/PROCEDURES_ICD.csv')]"
      ]
     },
     "execution_count": 7,
     "metadata": {},
     "output_type": "execute_result"
    }
   ],
   "source": [
    "root_path.ls()"
   ]
  },
  {
   "cell_type": "code",
   "execution_count": 8,
   "metadata": {
    "ExecuteTime": {
     "end_time": "2020-04-21T02:42:26.655275Z",
     "start_time": "2020-04-21T02:40:15.439156Z"
    }
   },
   "outputs": [],
   "source": [
    "\n",
    "df_note_events = pd.read_csv(root_path/'NOTEEVENTS.csv',dtype={'ROW_ID':np.int32, 'SUBJECT_ID': np.int32,'HADM_ID': str,\n",
    "                                       'CHARTDATE':str,'STORETIME':str,'CHARTTIME':str,\n",
    "                                       'STORETIME': str,'CATEGORY': str,'DESCRIPTION':str,'CGID':str,'ISERROR':str,\n",
    "                                        'TEXT':str}, parse_dates=['CHARTDATE'])\n",
    "\n",
    "df_diagnosis_icd = pd.read_csv(root_path/'DIAGNOSES_ICD.csv',dtype={'ROW_ID':np.int32, 'SUBJECT_ID': np.int32,'HADM_ID': str,\n",
    "                                            'SEQ_NUM':  np.float64,'ICD9_CODE':str})"
   ]
  },
  {
   "cell_type": "markdown",
   "metadata": {},
   "source": [
    "# Data Exploration"
   ]
  },
  {
   "cell_type": "code",
   "execution_count": 9,
   "metadata": {
    "ExecuteTime": {
     "end_time": "2020-04-21T02:42:27.524581Z",
     "start_time": "2020-04-21T02:42:26.656278Z"
    }
   },
   "outputs": [
    {
     "data": {
      "text/plain": [
       "ROW_ID         2083180\n",
       "SUBJECT_ID     2083180\n",
       "HADM_ID        1851344\n",
       "CHARTDATE      2083180\n",
       "CHARTTIME      1766614\n",
       "STORETIME      1246404\n",
       "CATEGORY       2083180\n",
       "DESCRIPTION    2083180\n",
       "CGID           1246404\n",
       "ISERROR            886\n",
       "TEXT           2083180\n",
       "dtype: int64"
      ]
     },
     "execution_count": 9,
     "metadata": {},
     "output_type": "execute_result"
    }
   ],
   "source": [
    "df_note_events.count()"
   ]
  },
  {
   "cell_type": "code",
   "execution_count": 10,
   "metadata": {
    "ExecuteTime": {
     "end_time": "2020-04-21T02:42:28.742945Z",
     "start_time": "2020-04-21T02:42:27.525583Z"
    }
   },
   "outputs": [
    {
     "data": {
      "text/html": [
       "<div>\n",
       "<style scoped>\n",
       "    .dataframe tbody tr th:only-of-type {\n",
       "        vertical-align: middle;\n",
       "    }\n",
       "\n",
       "    .dataframe tbody tr th {\n",
       "        vertical-align: top;\n",
       "    }\n",
       "\n",
       "    .dataframe thead th {\n",
       "        text-align: right;\n",
       "    }\n",
       "</style>\n",
       "<table border=\"1\" class=\"dataframe\">\n",
       "  <thead>\n",
       "    <tr style=\"text-align: right;\">\n",
       "      <th></th>\n",
       "      <th>ROW_ID</th>\n",
       "      <th>SUBJECT_ID</th>\n",
       "      <th>HADM_ID</th>\n",
       "      <th>CHARTDATE</th>\n",
       "      <th>CHARTTIME</th>\n",
       "      <th>STORETIME</th>\n",
       "      <th>DESCRIPTION</th>\n",
       "      <th>CGID</th>\n",
       "      <th>ISERROR</th>\n",
       "      <th>TEXT</th>\n",
       "    </tr>\n",
       "    <tr>\n",
       "      <th>CATEGORY</th>\n",
       "      <th></th>\n",
       "      <th></th>\n",
       "      <th></th>\n",
       "      <th></th>\n",
       "      <th></th>\n",
       "      <th></th>\n",
       "      <th></th>\n",
       "      <th></th>\n",
       "      <th></th>\n",
       "      <th></th>\n",
       "    </tr>\n",
       "  </thead>\n",
       "  <tbody>\n",
       "    <tr>\n",
       "      <th>Case Management</th>\n",
       "      <td>967</td>\n",
       "      <td>967</td>\n",
       "      <td>954</td>\n",
       "      <td>967</td>\n",
       "      <td>967</td>\n",
       "      <td>967</td>\n",
       "      <td>967</td>\n",
       "      <td>967</td>\n",
       "      <td>14</td>\n",
       "      <td>967</td>\n",
       "    </tr>\n",
       "    <tr>\n",
       "      <th>Consult</th>\n",
       "      <td>98</td>\n",
       "      <td>98</td>\n",
       "      <td>98</td>\n",
       "      <td>98</td>\n",
       "      <td>98</td>\n",
       "      <td>98</td>\n",
       "      <td>98</td>\n",
       "      <td>98</td>\n",
       "      <td>0</td>\n",
       "      <td>98</td>\n",
       "    </tr>\n",
       "    <tr>\n",
       "      <th>Discharge summary</th>\n",
       "      <td>59652</td>\n",
       "      <td>59652</td>\n",
       "      <td>59652</td>\n",
       "      <td>59652</td>\n",
       "      <td>0</td>\n",
       "      <td>0</td>\n",
       "      <td>59652</td>\n",
       "      <td>0</td>\n",
       "      <td>0</td>\n",
       "      <td>59652</td>\n",
       "    </tr>\n",
       "    <tr>\n",
       "      <th>ECG</th>\n",
       "      <td>209051</td>\n",
       "      <td>209051</td>\n",
       "      <td>138190</td>\n",
       "      <td>209051</td>\n",
       "      <td>0</td>\n",
       "      <td>0</td>\n",
       "      <td>209051</td>\n",
       "      <td>0</td>\n",
       "      <td>0</td>\n",
       "      <td>209051</td>\n",
       "    </tr>\n",
       "    <tr>\n",
       "      <th>Echo</th>\n",
       "      <td>45794</td>\n",
       "      <td>45794</td>\n",
       "      <td>34037</td>\n",
       "      <td>45794</td>\n",
       "      <td>0</td>\n",
       "      <td>0</td>\n",
       "      <td>45794</td>\n",
       "      <td>0</td>\n",
       "      <td>0</td>\n",
       "      <td>45794</td>\n",
       "    </tr>\n",
       "    <tr>\n",
       "      <th>General</th>\n",
       "      <td>8301</td>\n",
       "      <td>8301</td>\n",
       "      <td>8209</td>\n",
       "      <td>8301</td>\n",
       "      <td>8260</td>\n",
       "      <td>8301</td>\n",
       "      <td>8301</td>\n",
       "      <td>8301</td>\n",
       "      <td>65</td>\n",
       "      <td>8301</td>\n",
       "    </tr>\n",
       "    <tr>\n",
       "      <th>Nursing</th>\n",
       "      <td>223556</td>\n",
       "      <td>223556</td>\n",
       "      <td>220758</td>\n",
       "      <td>223556</td>\n",
       "      <td>222172</td>\n",
       "      <td>223556</td>\n",
       "      <td>223556</td>\n",
       "      <td>223556</td>\n",
       "      <td>374</td>\n",
       "      <td>223556</td>\n",
       "    </tr>\n",
       "    <tr>\n",
       "      <th>Nursing/other</th>\n",
       "      <td>822497</td>\n",
       "      <td>822497</td>\n",
       "      <td>821258</td>\n",
       "      <td>822497</td>\n",
       "      <td>822497</td>\n",
       "      <td>822497</td>\n",
       "      <td>822497</td>\n",
       "      <td>822497</td>\n",
       "      <td>0</td>\n",
       "      <td>822497</td>\n",
       "    </tr>\n",
       "    <tr>\n",
       "      <th>Nutrition</th>\n",
       "      <td>9418</td>\n",
       "      <td>9418</td>\n",
       "      <td>9378</td>\n",
       "      <td>9418</td>\n",
       "      <td>9411</td>\n",
       "      <td>9418</td>\n",
       "      <td>9418</td>\n",
       "      <td>9418</td>\n",
       "      <td>18</td>\n",
       "      <td>9418</td>\n",
       "    </tr>\n",
       "    <tr>\n",
       "      <th>Pharmacy</th>\n",
       "      <td>103</td>\n",
       "      <td>103</td>\n",
       "      <td>102</td>\n",
       "      <td>103</td>\n",
       "      <td>102</td>\n",
       "      <td>103</td>\n",
       "      <td>103</td>\n",
       "      <td>103</td>\n",
       "      <td>2</td>\n",
       "      <td>103</td>\n",
       "    </tr>\n",
       "    <tr>\n",
       "      <th>Physician</th>\n",
       "      <td>141624</td>\n",
       "      <td>141624</td>\n",
       "      <td>140100</td>\n",
       "      <td>141624</td>\n",
       "      <td>141048</td>\n",
       "      <td>141624</td>\n",
       "      <td>141624</td>\n",
       "      <td>141624</td>\n",
       "      <td>343</td>\n",
       "      <td>141624</td>\n",
       "    </tr>\n",
       "    <tr>\n",
       "      <th>Radiology</th>\n",
       "      <td>522279</td>\n",
       "      <td>522279</td>\n",
       "      <td>378920</td>\n",
       "      <td>522279</td>\n",
       "      <td>522279</td>\n",
       "      <td>0</td>\n",
       "      <td>522279</td>\n",
       "      <td>0</td>\n",
       "      <td>0</td>\n",
       "      <td>522279</td>\n",
       "    </tr>\n",
       "    <tr>\n",
       "      <th>Rehab Services</th>\n",
       "      <td>5431</td>\n",
       "      <td>5431</td>\n",
       "      <td>5409</td>\n",
       "      <td>5431</td>\n",
       "      <td>5429</td>\n",
       "      <td>5431</td>\n",
       "      <td>5431</td>\n",
       "      <td>5431</td>\n",
       "      <td>23</td>\n",
       "      <td>5431</td>\n",
       "    </tr>\n",
       "    <tr>\n",
       "      <th>Respiratory</th>\n",
       "      <td>31739</td>\n",
       "      <td>31739</td>\n",
       "      <td>31667</td>\n",
       "      <td>31739</td>\n",
       "      <td>31703</td>\n",
       "      <td>31739</td>\n",
       "      <td>31739</td>\n",
       "      <td>31739</td>\n",
       "      <td>38</td>\n",
       "      <td>31739</td>\n",
       "    </tr>\n",
       "    <tr>\n",
       "      <th>Social Work</th>\n",
       "      <td>2670</td>\n",
       "      <td>2670</td>\n",
       "      <td>2612</td>\n",
       "      <td>2670</td>\n",
       "      <td>2648</td>\n",
       "      <td>2670</td>\n",
       "      <td>2670</td>\n",
       "      <td>2670</td>\n",
       "      <td>9</td>\n",
       "      <td>2670</td>\n",
       "    </tr>\n",
       "  </tbody>\n",
       "</table>\n",
       "</div>"
      ],
      "text/plain": [
       "                   ROW_ID  SUBJECT_ID  HADM_ID  CHARTDATE  CHARTTIME  \\\n",
       "CATEGORY                                                               \n",
       "Case Management       967         967      954        967        967   \n",
       "Consult                98          98       98         98         98   \n",
       "Discharge summary   59652       59652    59652      59652          0   \n",
       "ECG                209051      209051   138190     209051          0   \n",
       "Echo                45794       45794    34037      45794          0   \n",
       "General              8301        8301     8209       8301       8260   \n",
       "Nursing            223556      223556   220758     223556     222172   \n",
       "Nursing/other      822497      822497   821258     822497     822497   \n",
       "Nutrition            9418        9418     9378       9418       9411   \n",
       "Pharmacy              103         103      102        103        102   \n",
       "Physician          141624      141624   140100     141624     141048   \n",
       "Radiology          522279      522279   378920     522279     522279   \n",
       "Rehab Services       5431        5431     5409       5431       5429   \n",
       "Respiratory         31739       31739    31667      31739      31703   \n",
       "Social Work          2670        2670     2612       2670       2648   \n",
       "\n",
       "                   STORETIME  DESCRIPTION    CGID  ISERROR    TEXT  \n",
       "CATEGORY                                                            \n",
       "Case Management          967          967     967       14     967  \n",
       "Consult                   98           98      98        0      98  \n",
       "Discharge summary          0        59652       0        0   59652  \n",
       "ECG                        0       209051       0        0  209051  \n",
       "Echo                       0        45794       0        0   45794  \n",
       "General                 8301         8301    8301       65    8301  \n",
       "Nursing               223556       223556  223556      374  223556  \n",
       "Nursing/other         822497       822497  822497        0  822497  \n",
       "Nutrition               9418         9418    9418       18    9418  \n",
       "Pharmacy                 103          103     103        2     103  \n",
       "Physician             141624       141624  141624      343  141624  \n",
       "Radiology                  0       522279       0        0  522279  \n",
       "Rehab Services          5431         5431    5431       23    5431  \n",
       "Respiratory            31739        31739   31739       38   31739  \n",
       "Social Work             2670         2670    2670        9    2670  "
      ]
     },
     "execution_count": 10,
     "metadata": {},
     "output_type": "execute_result"
    }
   ],
   "source": [
    "df_note_events.groupby('CATEGORY').count()"
   ]
  },
  {
   "cell_type": "markdown",
   "metadata": {},
   "source": [
    "# Explore DIAGNOSIS_ICD"
   ]
  },
  {
   "cell_type": "code",
   "execution_count": 11,
   "metadata": {
    "ExecuteTime": {
     "end_time": "2020-04-21T02:42:59.279026Z",
     "start_time": "2020-04-21T02:42:58.939054Z"
    }
   },
   "outputs": [
    {
     "data": {
      "text/plain": [
       "'40301'"
      ]
     },
     "execution_count": 11,
     "metadata": {},
     "output_type": "execute_result"
    }
   ],
   "source": [
    "df_diagnosis_icd['ICD9_CODE'].iloc[0]"
   ]
  },
  {
   "cell_type": "markdown",
   "metadata": {},
   "source": [
    "The code above let's you see the ICD-9 hierarchy and traverse it, getting the parents (path) of a node, the children of a node, siblings, etc. (well documented in its README file).\n",
    "\n",
    "From looking at the top of the hierarchy, these are the ICD9-codes that are in the first level of the hierarchy.\n",
    "\n",
    "* 001-139 INFECTIOUS AND PARASITIC DISEASES \n",
    "* 140-239 NEOPLASMS \n",
    "* 240-279 ENDOCRINE, NUTRITIONAL AND METABOLIC DISEASES, AND IMMUNITY DISORDERS \n",
    "* 290-319 MENTAL DISORDERS \n",
    "* 320-389 DISEASES OF THE NERVOUS SYSTEM AND SENSE ORGANS \n",
    "* 390-459 DISEASES OF THE CIRCULATORY SYSTEM \n",
    "* 460-519 DISEASES OF THE RESPIRATORY SYSTEM \n",
    "* 520-579 DISEASES OF THE DIGESTIVE SYSTEM \n",
    "* 580-629 DISEASES OF THE GENITOURINARY SYSTEM \n",
    "* 630-679 COMPLICATIONS OF PREGNANCY, CHILDBIRTH, AND THE PUERPERIUM \n",
    "* 680-709 DISEASES OF THE SKIN AND SUBCUTANEOUS TISSUE \n",
    "* 710-739 DISEASES OF THE MUSCULOSKELETAL SYSTEM AND CONNECTIVE TISSUE \n",
    "* 760-779 CERTAIN CONDITIONS ORIGINATING IN THE PERINATAL PERIOD \n",
    "* 780-789 SYMPTOMS \n",
    "* 790-796 NONSPECIFIC ABNORMAL FINDINGS \n",
    "* 797 Senility without mention of psychosis\n",
    "* 798 Sudden death, cause unknown\n",
    "* 799 Other ill-defined and unknown causes of morbidity and mortality\n",
    "* 800-999 INJURY AND POISONING"
   ]
  },
  {
   "cell_type": "markdown",
   "metadata": {},
   "source": [
    "The way that ICD9-codes are coded makes easy to find out which icd9-code code is the granparent in the first level, for example:\n",
    "\n",
    "leave-code  code-at-first-level\n",
    "* 64833    -> 630-679\n",
    "* 4019     -> 390-459\n",
    "\n",
    "The first three charachters of the leave icd9-code can be used to find out which is the grandparent icd-code in the first level"
   ]
  },
  {
   "cell_type": "code",
   "execution_count": 13,
   "metadata": {
    "ExecuteTime": {
     "end_time": "2020-04-21T02:43:22.956252Z",
     "start_time": "2020-04-21T02:43:18.596757Z"
    }
   },
   "outputs": [
    {
     "data": {
      "text/html": [
       "<div>\n",
       "<style scoped>\n",
       "    .dataframe tbody tr th:only-of-type {\n",
       "        vertical-align: middle;\n",
       "    }\n",
       "\n",
       "    .dataframe tbody tr th {\n",
       "        vertical-align: top;\n",
       "    }\n",
       "\n",
       "    .dataframe thead th {\n",
       "        text-align: right;\n",
       "    }\n",
       "</style>\n",
       "<table border=\"1\" class=\"dataframe\">\n",
       "  <thead>\n",
       "    <tr style=\"text-align: right;\">\n",
       "      <th></th>\n",
       "      <th>ROW_ID</th>\n",
       "      <th>SUBJECT_ID</th>\n",
       "      <th>HADM_ID</th>\n",
       "      <th>SEQ_NUM</th>\n",
       "      <th>ICD9_CODE</th>\n",
       "      <th>ICD9_GRP</th>\n",
       "    </tr>\n",
       "  </thead>\n",
       "  <tbody>\n",
       "    <tr>\n",
       "      <th>0</th>\n",
       "      <td>1297</td>\n",
       "      <td>109</td>\n",
       "      <td>172335</td>\n",
       "      <td>1.0</td>\n",
       "      <td>40301</td>\n",
       "      <td>390-459</td>\n",
       "    </tr>\n",
       "    <tr>\n",
       "      <th>1</th>\n",
       "      <td>1298</td>\n",
       "      <td>109</td>\n",
       "      <td>172335</td>\n",
       "      <td>2.0</td>\n",
       "      <td>486</td>\n",
       "      <td>460-519</td>\n",
       "    </tr>\n",
       "    <tr>\n",
       "      <th>2</th>\n",
       "      <td>1299</td>\n",
       "      <td>109</td>\n",
       "      <td>172335</td>\n",
       "      <td>3.0</td>\n",
       "      <td>58281</td>\n",
       "      <td>580-629</td>\n",
       "    </tr>\n",
       "    <tr>\n",
       "      <th>3</th>\n",
       "      <td>1300</td>\n",
       "      <td>109</td>\n",
       "      <td>172335</td>\n",
       "      <td>4.0</td>\n",
       "      <td>5855</td>\n",
       "      <td>580-629</td>\n",
       "    </tr>\n",
       "    <tr>\n",
       "      <th>4</th>\n",
       "      <td>1301</td>\n",
       "      <td>109</td>\n",
       "      <td>172335</td>\n",
       "      <td>5.0</td>\n",
       "      <td>4254</td>\n",
       "      <td>390-459</td>\n",
       "    </tr>\n",
       "    <tr>\n",
       "      <th>5</th>\n",
       "      <td>1302</td>\n",
       "      <td>109</td>\n",
       "      <td>172335</td>\n",
       "      <td>6.0</td>\n",
       "      <td>2762</td>\n",
       "      <td>240-279</td>\n",
       "    </tr>\n",
       "    <tr>\n",
       "      <th>6</th>\n",
       "      <td>1303</td>\n",
       "      <td>109</td>\n",
       "      <td>172335</td>\n",
       "      <td>7.0</td>\n",
       "      <td>7100</td>\n",
       "      <td>710-739</td>\n",
       "    </tr>\n",
       "    <tr>\n",
       "      <th>7</th>\n",
       "      <td>1304</td>\n",
       "      <td>109</td>\n",
       "      <td>172335</td>\n",
       "      <td>8.0</td>\n",
       "      <td>2767</td>\n",
       "      <td>240-279</td>\n",
       "    </tr>\n",
       "    <tr>\n",
       "      <th>8</th>\n",
       "      <td>1305</td>\n",
       "      <td>109</td>\n",
       "      <td>172335</td>\n",
       "      <td>9.0</td>\n",
       "      <td>7243</td>\n",
       "      <td>710-739</td>\n",
       "    </tr>\n",
       "    <tr>\n",
       "      <th>9</th>\n",
       "      <td>1306</td>\n",
       "      <td>109</td>\n",
       "      <td>172335</td>\n",
       "      <td>10.0</td>\n",
       "      <td>45829</td>\n",
       "      <td>390-459</td>\n",
       "    </tr>\n",
       "  </tbody>\n",
       "</table>\n",
       "</div>"
      ],
      "text/plain": [
       "   ROW_ID  SUBJECT_ID HADM_ID  SEQ_NUM ICD9_CODE ICD9_GRP\n",
       "0    1297         109  172335      1.0     40301  390-459\n",
       "1    1298         109  172335      2.0       486  460-519\n",
       "2    1299         109  172335      3.0     58281  580-629\n",
       "3    1300         109  172335      4.0      5855  580-629\n",
       "4    1301         109  172335      5.0      4254  390-459\n",
       "5    1302         109  172335      6.0      2762  240-279\n",
       "6    1303         109  172335      7.0      7100  710-739\n",
       "7    1304         109  172335      8.0      2767  240-279\n",
       "8    1305         109  172335      9.0      7243  710-739\n",
       "9    1306         109  172335     10.0     45829  390-459"
      ]
     },
     "execution_count": 13,
     "metadata": {},
     "output_type": "execute_result"
    }
   ],
   "source": [
    "ICD9_FIRST_LEVEL = [\n",
    "    '001-139','140-239','240-279','290-319', '320-389', '390-459','460-519', '520-579', '580-629', \n",
    "    '630-679', '680-709','710-739', '760-779', '780-789', '790-796', '797', '798', '799', '800-999' ]\n",
    "N_TOP = len(ICD9_FIRST_LEVEL)\n",
    "\n",
    "# replacing leave ICD9 codes with the grandparents\n",
    "df_diagnosis_icd['ICD9_GRP'] = df_diagnosis_icd['ICD9_CODE'].apply(lambda x: helpers.replace_with_grandparent_codes(x,ICD9_FIRST_LEVEL))\n",
    "df_diagnosis_icd.head(10)"
   ]
  },
  {
   "cell_type": "code",
   "execution_count": 17,
   "metadata": {
    "ExecuteTime": {
     "end_time": "2020-04-19T18:30:24.460877Z",
     "start_time": "2020-04-19T18:30:24.149046Z"
    }
   },
   "outputs": [],
   "source": [
    "# df_diagnosis_icd['ICD9_CODE'] = df_diagnosis_icd['ICD9_CODE'].str.pad(4,'left','0')\n",
    "# df_diagnosis_icd['ICD9_GRP'] = df_diagnosis_icd['ICD9_CODE'].str.slice(0,3)\n",
    "# df_diagnosis_icd.head()"
   ]
  },
  {
   "cell_type": "markdown",
   "metadata": {},
   "source": [
    "# Exploration of diagnosis code to choose the target"
   ]
  },
  {
   "cell_type": "markdown",
   "metadata": {
    "heading_collapsed": true
   },
   "source": [
    "### Selection of most frequent diagnosis codes"
   ]
  },
  {
   "cell_type": "code",
   "execution_count": null,
   "metadata": {
    "ExecuteTime": {
     "end_time": "2020-04-19T17:08:00.698265Z",
     "start_time": "2020-04-19T17:08:00.436562Z"
    },
    "hidden": true
   },
   "outputs": [],
   "source": [
    "a=df_diagnosis_icd.groupby('ICD9_CODE')['HADM_ID'].count().sort_values(ascending=False)\n",
    "a.hist(figsize=(17, 5))"
   ]
  },
  {
   "cell_type": "code",
   "execution_count": null,
   "metadata": {
    "ExecuteTime": {
     "end_time": "2020-04-19T17:08:00.859698Z",
     "start_time": "2020-04-19T17:08:00.700270Z"
    },
    "hidden": true
   },
   "outputs": [],
   "source": [
    "np.log10(a).hist(figsize= (17, 5))\n"
   ]
  },
  {
   "cell_type": "markdown",
   "metadata": {
    "hidden": true
   },
   "source": [
    "Due to sparsity in code distribution, we may need to look into the group codes."
   ]
  },
  {
   "cell_type": "code",
   "execution_count": null,
   "metadata": {
    "ExecuteTime": {
     "end_time": "2020-04-19T17:08:00.875741Z",
     "start_time": "2020-04-19T17:08:00.860701Z"
    },
    "hidden": true
   },
   "outputs": [],
   "source": [
    "print('Nb codes > 1000 occurences= '+str(len(a[a>1000]))+\n",
    "      '  \\nNb codes 1000-100 occurences = ' +str(len(a[(a<1000)&(a>100)]))\n",
    "      +'  \\nNb codes <100 occurences = ' +str(len(a[a<100])) )"
   ]
  },
  {
   "cell_type": "code",
   "execution_count": null,
   "metadata": {
    "ExecuteTime": {
     "end_time": "2020-04-19T17:08:01.933581Z",
     "start_time": "2020-04-19T17:08:00.876743Z"
    },
    "hidden": true
   },
   "outputs": [],
   "source": [
    "a[a>1000].plot(kind='bar',figsize= (17, 10))\n"
   ]
  },
  {
   "cell_type": "code",
   "execution_count": null,
   "metadata": {
    "ExecuteTime": {
     "end_time": "2020-04-19T17:08:06.245155Z",
     "start_time": "2020-04-19T17:08:01.935587Z"
    },
    "hidden": true
   },
   "outputs": [],
   "source": [
    "a=df_diagnosis_icd.groupby('ICD9_CODE')[ 'HADM_ID'].count()\n",
    "DIAGNOSES_ICD_freq=df_diagnosis_icd[df_diagnosis_icd['ICD9_CODE'].isin(a[a>1000].keys())]\n",
    "df=DIAGNOSES_ICD_freq.groupby('HADM_ID')['ICD9_CODE'].apply(lambda x: \"['%s']\" %\"','\".join(x))\n",
    "df=df.apply(lambda x : eval(x))\n",
    "DIAGNOSES_ICD_freq=pd.DataFrame(df)\n",
    "DIAGNOSES_ICD_freq['HADM_ID']=df.keys()\n",
    "DIAGNOSES_ICD_freq.head()"
   ]
  },
  {
   "cell_type": "code",
   "execution_count": null,
   "metadata": {
    "ExecuteTime": {
     "end_time": "2020-04-19T17:08:06.297295Z",
     "start_time": "2020-04-19T17:08:06.247161Z"
    },
    "hidden": true
   },
   "outputs": [],
   "source": [
    "print(\"Total number of unique Admissions\", DIAGNOSES_ICD_freq.HADM_ID.nunique())\n",
    "print(\"Total number of unique ICD 9 codes\", len(a[a>1000]))"
   ]
  },
  {
   "cell_type": "markdown",
   "metadata": {},
   "source": [
    "### Selection of diagnosis code based on groups"
   ]
  },
  {
   "cell_type": "code",
   "execution_count": 14,
   "metadata": {
    "ExecuteTime": {
     "end_time": "2020-04-21T02:43:26.167508Z",
     "start_time": "2020-04-21T02:43:25.857617Z"
    }
   },
   "outputs": [],
   "source": [
    "count_icd_cases = df_diagnosis_icd.groupby('ICD9_GRP')['HADM_ID'].count().sort_values(ascending=False)"
   ]
  },
  {
   "cell_type": "code",
   "execution_count": 15,
   "metadata": {
    "ExecuteTime": {
     "end_time": "2020-04-21T02:43:31.545580Z",
     "start_time": "2020-04-21T02:43:26.745921Z"
    }
   },
   "outputs": [
    {
     "data": {
      "text/html": [
       "<div>\n",
       "<style scoped>\n",
       "    .dataframe tbody tr th:only-of-type {\n",
       "        vertical-align: middle;\n",
       "    }\n",
       "\n",
       "    .dataframe tbody tr th {\n",
       "        vertical-align: top;\n",
       "    }\n",
       "\n",
       "    .dataframe thead th {\n",
       "        text-align: right;\n",
       "    }\n",
       "</style>\n",
       "<table border=\"1\" class=\"dataframe\">\n",
       "  <thead>\n",
       "    <tr style=\"text-align: right;\">\n",
       "      <th></th>\n",
       "      <th>ICD9_GRP</th>\n",
       "      <th>HADM_ID</th>\n",
       "    </tr>\n",
       "    <tr>\n",
       "      <th>HADM_ID</th>\n",
       "      <th></th>\n",
       "      <th></th>\n",
       "    </tr>\n",
       "  </thead>\n",
       "  <tbody>\n",
       "    <tr>\n",
       "      <th>100001</th>\n",
       "      <td>[240-279, 320-389, 580-629, 520-579, , 240-279, 520-579, 390-459, 240-279, 390-459, 580-629, 240-279, 320-389, 240-279, 680-709, ]</td>\n",
       "      <td>100001</td>\n",
       "    </tr>\n",
       "    <tr>\n",
       "      <th>100003</th>\n",
       "      <td>[520-579, 290-319, 001-139, 520-579, 390-459, 520-579, 390-459, 520-579, 780-789]</td>\n",
       "      <td>100003</td>\n",
       "    </tr>\n",
       "    <tr>\n",
       "      <th>100006</th>\n",
       "      <td>[460-519, 460-519, 460-519, 140-239, 240-279, 780-789, 290-319, , ]</td>\n",
       "      <td>100006</td>\n",
       "    </tr>\n",
       "    <tr>\n",
       "      <th>100007</th>\n",
       "      <td>[520-579, 520-579, 800-999, 460-519, 390-459]</td>\n",
       "      <td>100007</td>\n",
       "    </tr>\n",
       "    <tr>\n",
       "      <th>100009</th>\n",
       "      <td>[390-459, 800-999, 390-459, 240-279, 240-279, , 390-459, 390-459, , , 290-319, 390-459, 240-279, 390-459, 390-459, , , ]</td>\n",
       "      <td>100009</td>\n",
       "    </tr>\n",
       "  </tbody>\n",
       "</table>\n",
       "</div>"
      ],
      "text/plain": [
       "                                                                                                                                   ICD9_GRP  \\\n",
       "HADM_ID                                                                                                                                       \n",
       "100001   [240-279, 320-389, 580-629, 520-579, , 240-279, 520-579, 390-459, 240-279, 390-459, 580-629, 240-279, 320-389, 240-279, 680-709, ]   \n",
       "100003                                                    [520-579, 290-319, 001-139, 520-579, 390-459, 520-579, 390-459, 520-579, 780-789]   \n",
       "100006                                                                  [460-519, 460-519, 460-519, 140-239, 240-279, 780-789, 290-319, , ]   \n",
       "100007                                                                                        [520-579, 520-579, 800-999, 460-519, 390-459]   \n",
       "100009             [390-459, 800-999, 390-459, 240-279, 240-279, , 390-459, 390-459, , , 290-319, 390-459, 240-279, 390-459, 390-459, , , ]   \n",
       "\n",
       "        HADM_ID  \n",
       "HADM_ID          \n",
       "100001   100001  \n",
       "100003   100003  \n",
       "100006   100006  \n",
       "100007   100007  \n",
       "100009   100009  "
      ]
     },
     "execution_count": 15,
     "metadata": {},
     "output_type": "execute_result"
    }
   ],
   "source": [
    "df=df_diagnosis_icd.groupby('HADM_ID')['ICD9_GRP'].apply(lambda x: \"['%s']\" %\"','\".join(x))\n",
    "df=df.apply(lambda x : eval(x))\n",
    "DIAGNOSES_ICD_grp_freq=pd.DataFrame(df)\n",
    "DIAGNOSES_ICD_grp_freq['HADM_ID']=df.keys()\n",
    "DIAGNOSES_ICD_grp_freq.head()"
   ]
  },
  {
   "cell_type": "markdown",
   "metadata": {},
   "source": [
    "### Counts by ICD9 Codes\n"
   ]
  },
  {
   "cell_type": "code",
   "execution_count": 16,
   "metadata": {
    "ExecuteTime": {
     "end_time": "2020-04-21T02:43:31.890495Z",
     "start_time": "2020-04-21T02:43:31.546583Z"
    }
   },
   "outputs": [
    {
     "name": "stdout",
     "output_type": "stream",
     "text": [
      "Counter({'390-459': 140257, '240-279': 69592, '290-319': 50138, '460-519': 44825, '800-999': 42948, '520-579': 38527, '580-629': 32867, '760-779': 24238, '320-389': 23334, '780-789': 22983, '001-139': 20264, '140-239': 14235, '710-739': 13392, '680-709': 8789, '790-796': 5026, '799': 1681, '630-679': 654, '798': 1})\n",
      "Number of ICD9 codes in the first level that have notes in the dataset:  18\n"
     ]
    }
   ],
   "source": [
    "icd9_codes = Counter()\n",
    "for label in DIAGNOSES_ICD_grp_freq['ICD9_GRP']:\n",
    "    for icd9_code in label:\n",
    "        if icd9_code != \"\":\n",
    "            icd9_codes[icd9_code] += 1\n",
    "print(icd9_codes)\n",
    "print(\"Number of ICD9 codes in the first level that have notes in the dataset: \", len(icd9_codes))"
   ]
  },
  {
   "cell_type": "code",
   "execution_count": 17,
   "metadata": {
    "ExecuteTime": {
     "end_time": "2020-04-21T02:43:32.361744Z",
     "start_time": "2020-04-21T02:43:31.904532Z"
    }
   },
   "outputs": [
    {
     "data": {
      "text/plain": [
       "Text(0.5, 1.0, 'Top 18 ICD9 codes in the ICD9 hierarchy')"
      ]
     },
     "execution_count": 17,
     "metadata": {},
     "output_type": "execute_result"
    },
    {
     "data": {
      "image/png": "[encoded data removed]",
      "text/plain": [
       "<Figure size 720x1080 with 1 Axes>"
      ]
     },
     "metadata": {
      "needs_background": "light"
     },
     "output_type": "display_data"
    }
   ],
   "source": [
    "df = pd.DataFrame.from_dict(icd9_codes, orient='index').sort_values(by=0,ascending=False).reset_index()\n",
    "\n",
    "f, ax = plt.subplots(figsize=(10, 15))\n",
    "\n",
    "sns.set(style=\"whitegrid\")\n",
    "\n",
    "sns.set_color_codes(\"pastel\")\n",
    "sns.barplot(x=0, y='index', data=df,\n",
    "            label=\"Total\", color=\"b\", orient='h')\n",
    "\n",
    "ax.set_xlabel('counts')\n",
    "ax.set_ylabel('ICD9 code')\n",
    "ax.set_title('Top ' + str(len(icd9_codes)) + ' ICD9 codes in the ICD9 hierarchy')"
   ]
  },
  {
   "cell_type": "markdown",
   "metadata": {},
   "source": [
    "# Build Training data"
   ]
  },
  {
   "cell_type": "code",
   "execution_count": 19,
   "metadata": {
    "ExecuteTime": {
     "end_time": "2020-04-21T02:44:15.724210Z",
     "start_time": "2020-04-21T02:44:15.420406Z"
    }
   },
   "outputs": [],
   "source": [
    "#labels = vectorize.vectorize_icd_column(DIAGNOSES_ICD_grp_freq, 'ICD9_GRP', top_codes)\n",
    "#DIAGNOSES_ICD_grp_freq['LABELS'] = list(labels)"
   ]
  },
  {
   "cell_type": "code",
   "execution_count": 21,
   "metadata": {
    "ExecuteTime": {
     "end_time": "2020-04-21T02:44:32.501747Z",
     "start_time": "2020-04-21T02:44:28.347802Z"
    }
   },
   "outputs": [],
   "source": [
    "selected_doc=['Discharge summary']\n",
    "df=df_note_events[df_note_events['CATEGORY'].isin(selected_doc)].groupby('HADM_ID')['TEXT'].apply(lambda x: \"{%s}\" % ', '.join(x))\n",
    "df2=pd.DataFrame(df,columns=['TEXT'])\n",
    "\n",
    "\n",
    "full_df=pd.merge(df2,DIAGNOSES_ICD_grp_freq[['ICD9_GRP']],on='HADM_ID')"
   ]
  },
  {
   "cell_type": "code",
   "execution_count": 27,
   "metadata": {
    "ExecuteTime": {
     "end_time": "2020-04-21T02:46:27.545992Z",
     "start_time": "2020-04-21T02:46:26.582364Z"
    }
   },
   "outputs": [],
   "source": [
    "full_df['ICD9_GRP'] = full_df.apply(lambda x: ' '.join(x['ICD9_GRP']),1)"
   ]
  },
  {
   "cell_type": "code",
   "execution_count": 32,
   "metadata": {
    "ExecuteTime": {
     "end_time": "2020-04-21T02:47:41.785088Z",
     "start_time": "2020-04-21T02:47:41.534419Z"
    }
   },
   "outputs": [],
   "source": [
    "full_df = full_df[full_df['ICD9_GRP'] != '']"
   ]
  },
  {
   "cell_type": "code",
   "execution_count": 45,
   "metadata": {
    "ExecuteTime": {
     "end_time": "2020-04-21T02:54:46.484793Z",
     "start_time": "2020-04-21T02:54:44.746110Z"
    }
   },
   "outputs": [],
   "source": [
    "full_df.iloc[24001:32000].to_csv(\"../data/full_df_sample4.pkl\")"
   ]
  },
  {
   "cell_type": "code",
   "execution_count": 34,
   "metadata": {
    "ExecuteTime": {
     "end_time": "2020-04-21T02:48:08.285359Z",
     "start_time": "2020-04-21T02:47:59.533219Z"
    }
   },
   "outputs": [],
   "source": [
    "full_df.to_csv(\"../data/full_df.csv\")"
   ]
  },
  {
   "cell_type": "markdown",
   "metadata": {},
   "source": [
    "# Save the dataset"
   ]
  },
  {
   "cell_type": "code",
   "execution_count": 36,
   "metadata": {
    "ExecuteTime": {
     "end_time": "2020-04-21T02:49:02.855919Z",
     "start_time": "2020-04-21T02:49:00.516709Z"
    }
   },
   "outputs": [],
   "source": [
    "full_df.to_pickle(\"../data/full_df.pkl\")"
   ]
  },
  {
   "cell_type": "code",
   "execution_count": null,
   "metadata": {
    "ExecuteTime": {
     "end_time": "2020-04-19T17:21:31.482272Z",
     "start_time": "2020-04-19T17:21:31.473248Z"
    }
   },
   "outputs": [],
   "source": [
    "train.head()"
   ]
  },
  {
   "cell_type": "code",
   "execution_count": null,
   "metadata": {
    "ExecuteTime": {
     "end_time": "2020-04-19T17:48:39.181141Z",
     "start_time": "2020-04-19T17:48:29.742923Z"
    }
   },
   "outputs": [],
   "source": [
    "train.to_csv('./train.csv',index=False)\n",
    "test.to_csv('./test.csv',index=False)"
   ]
  },
  {
   "cell_type": "code",
   "execution_count": null,
   "metadata": {
    "ExecuteTime": {
     "end_time": "2020-04-19T17:49:12.866144Z",
     "start_time": "2020-04-19T17:49:10.828700Z"
    }
   },
   "outputs": [],
   "source": [
    "train.to_pickle(\"./train.pkl\")\n",
    "test.to_pickle(\"./test.pkl\")"
   ]
  },
  {
   "cell_type": "code",
   "execution_count": null,
   "metadata": {},
   "outputs": [],
   "source": []
  }
 ],
 "metadata": {
  "kernelspec": {
   "display_name": "Python 3",
   "language": "python",
   "name": "python3"
  },
  "language_info": {
   "codemirror_mode": {
    "name": "ipython",
    "version": 3
   },
   "file_extension": ".py",
   "mimetype": "text/x-python",
   "name": "python",
   "nbconvert_exporter": "python",
   "pygments_lexer": "ipython3",
   "version": "3.6.8"
  }
 },
 "nbformat": 4,
 "nbformat_minor": 4
}
