{
 "cells": [
  {
   "cell_type": "code",
   "execution_count": 1,
   "metadata": {
    "ExecuteTime": {
     "end_time": "2020-04-21T00:29:30.817773Z",
     "start_time": "2020-04-21T00:29:30.717509Z"
    }
   },
   "outputs": [],
   "source": [
    "%load_ext autoreload\n",
    "%autoreload 2"
   ]
  },
  {
   "cell_type": "code",
   "execution_count": 2,
   "metadata": {
    "ExecuteTime": {
     "end_time": "2020-04-21T00:29:31.195138Z",
     "start_time": "2020-04-21T00:29:31.110910Z"
    }
   },
   "outputs": [],
   "source": [
    "import sys\n",
    "sys.path.insert(0,\"../src\")"
   ]
  },
  {
   "cell_type": "code",
   "execution_count": 3,
   "metadata": {
    "ExecuteTime": {
     "end_time": "2020-04-21T00:29:44.097401Z",
     "start_time": "2020-04-21T00:29:31.342564Z"
    }
   },
   "outputs": [],
   "source": [
    "import pandas as pd\n",
    "import numpy as np\n",
    "\n",
    "from fastai2 import *\n",
    "from fastai2.text.all import *\n",
    "import vectorize\n",
    "import helpers\n",
    "import transformers\n",
    "from utils import *\n",
    "from loss.loss import *"
   ]
  },
  {
   "cell_type": "markdown",
   "metadata": {},
   "source": [
    "# Load the data"
   ]
  },
  {
   "cell_type": "code",
   "execution_count": 4,
   "metadata": {
    "ExecuteTime": {
     "end_time": "2020-04-21T00:29:45.140117Z",
     "start_time": "2020-04-21T00:29:44.098335Z"
    }
   },
   "outputs": [],
   "source": [
    "full_df = pd.read_pickle(\"../data/full_df.pkl\")"
   ]
  },
  {
   "cell_type": "code",
   "execution_count": 7,
   "metadata": {
    "ExecuteTime": {
     "end_time": "2020-04-21T00:30:19.521458Z",
     "start_time": "2020-04-21T00:29:45.143050Z"
    }
   },
   "outputs": [],
   "source": [
    "MAX_VOCAB = None\n",
    "MAX_SEQ_LENGTH = 5000\n",
    "full_df['TEXT_PROCESSED'] = vectorize.clean_notes(full_df, 'TEXT')"
   ]
  },
  {
   "cell_type": "code",
   "execution_count": 8,
   "metadata": {},
   "outputs": [],
   "source": [
    "full_df['ICD9_GRP_LIST'] = full_df.ICD9_GRP.apply(lambda x: re.split(\" +\", x.strip()))"
   ]
  },
  {
   "cell_type": "markdown",
   "metadata": {
    "ExecuteTime": {
     "end_time": "2020-04-19T20:15:55.355592Z",
     "start_time": "2020-04-19T20:15:55.099912Z"
    }
   },
   "source": [
    "# Training"
   ]
  },
  {
   "cell_type": "markdown",
   "metadata": {},
   "source": [
    "Create Item Transformations"
   ]
  },
  {
   "cell_type": "code",
   "execution_count": null,
   "metadata": {},
   "outputs": [],
   "source": [
    "from transformers import BertConfig, BertForSequenceClassification, BertModel, BertTokenizer\n",
    "bert_tok = BertTokenizer.from_pretrained(\n",
    " \"bert-base-uncased\",\n",
    ")\n",
    "\n",
    "fastai_bert_vocab =L(bert_tok.vocab.keys())"
   ]
  },
  {
   "cell_type": "code",
   "execution_count": null,
   "metadata": {},
   "outputs": [],
   "source": [
    "sample_df = full_df.sample(frac=0.3)"
   ]
  },
  {
   "cell_type": "code",
   "execution_count": 116,
   "metadata": {
    "ExecuteTime": {
     "end_time": "2020-04-21T01:09:32.609424Z",
     "start_time": "2020-04-21T01:09:26.073352Z"
    }
   },
   "outputs": [],
   "source": [
    "item_tfms= [[ColReader('TEXT_PROCESSED'), FastAIBertTokenizer(tokenizer=bert_tok)],\n",
    "            [ColReader('ICD9_GRP_LIST') , MultiCategorize, OneHotEncode]\n",
    "           ]\n",
    "\n",
    "# Create datasource & dataloaders \n",
    "\n",
    "splits = RandomSplitter()(range_of(sample_df))\n",
    "dsrc = Datasets(sample_df, tfms=item_tfms, splits=splits)\n",
    "dls = dsrc.dataloaders(bs=4)"
   ]
  },
  {
   "cell_type": "markdown",
   "metadata": {},
   "source": [
    "Testing dataloaders"
   ]
  },
  {
   "cell_type": "code",
   "execution_count": 120,
   "metadata": {
    "ExecuteTime": {
     "end_time": "2020-04-21T01:09:33.070698Z",
     "start_time": "2020-04-21T01:09:32.610358Z"
    }
   },
   "outputs": [],
   "source": [
    "b = dls.one_batch()"
   ]
  },
  {
   "cell_type": "markdown",
   "metadata": {},
   "source": [
    "Showing batch"
   ]
  },
  {
   "cell_type": "code",
   "execution_count": 121,
   "metadata": {
    "ExecuteTime": {
     "end_time": "2020-04-21T01:09:33.072633Z",
     "start_time": "2020-04-21T01:09:28.328Z"
    }
   },
   "outputs": [],
   "source": [
    "@typedispatch\n",
    "def show_batch(x, y, samples, ctxs=None, max_n=9, **kwargs):\n",
    "    if ctxs is None: ctxs = Inf.nones\n",
    "    \n",
    "    # samples[0] contains str , samples[1] contains str\n",
    "    text_samples = []\n",
    "    label_samples = []\n",
    "    for i in range_of(samples):\n",
    "        text_samples.append(samples[i][0][0][300:500])\n",
    "        actual_labels = [l for l in samples[i][1] if l != \"\"]\n",
    "        label_samples.append(actual_labels)\n",
    "    \n",
    "    df = pd.DataFrame({'Text': text_samples, 'Label': label_samples})\n",
    "    display_df(df)\n",
    "\n",
    "    return ctxs"
   ]
  },
  {
   "cell_type": "code",
   "execution_count": 122,
   "metadata": {},
   "outputs": [],
   "source": [
    "@typedispatch\n",
    "def show_results(x, y, samples, outs, ctxs=None, max_n=9, **kwargs):\n",
    "    if ctxs is None: ctxs = Inf.nones\n",
    "        \n",
    "        # samples[0] contains str , samples[1] contains str\n",
    "    text_samples = []\n",
    "    label_samples = []\n",
    "    result_samples = []\n",
    "    for i in range_of(samples):\n",
    "        text_samples.append(samples[i][0][0][300:500])\n",
    "        actual_labels = [l for l in samples[i][1] if l != \"\"]\n",
    "        label_samples.append(actual_labels)\n",
    "        result_samples.append(outs[i][0])\n",
    "    df = pd.DataFrame({'Text': text_samples, 'Label': label_samples,'Result': result_samples})\n",
    "    display_df(df)\n",
    "    \n",
    "    return ctxs"
   ]
  },
  {
   "cell_type": "code",
   "execution_count": 123,
   "metadata": {
    "ExecuteTime": {
     "end_time": "2020-04-21T01:09:33.073638Z",
     "start_time": "2020-04-21T01:09:28.777Z"
    }
   },
   "outputs": [
    {
     "data": {
      "text/html": [
       "<table border=\"1\" class=\"dataframe\">\n",
       "  <thead>\n",
       "    <tr style=\"text-align: right;\">\n",
       "      <th></th>\n",
       "      <th>Text</th>\n",
       "      <th>Label</th>\n",
       "    </tr>\n",
       "  </thead>\n",
       "  <tbody>\n",
       "    <tr>\n",
       "      <th>0</th>\n",
       "      <td>ve procedure left sided thoracentesis history of present illness pt is a dgyo woman with rcc metastatic to lungs with recent progression of disease in the area of the right mainstem bronchus s p mecha</td>\n",
       "      <td>[140-239, 240-279, 320-389, 390-459, 460-519, 710-739, 800-999]</td>\n",
       "    </tr>\n",
       "    <tr>\n",
       "      <th>1</th>\n",
       "      <td>idua workup revealed a pfo with left to right shunting at rest and right to left with valsalva she was not a candidate for percutaneous closure and is admitted now for closure as she desires more chil</td>\n",
       "      <td>[710-739, 760-779]</td>\n",
       "    </tr>\n",
       "    <tr>\n",
       "      <th>2</th>\n",
       "      <td>the patient was therefore medflighted to for further care in the emergency room the patient remained hemodynamically stable the patient was noted to have a left wrist deformity as well as ecchymosis</td>\n",
       "      <td>[001-139, 320-389, 390-459, 580-629, 800-999]</td>\n",
       "    </tr>\n",
       "    <tr>\n",
       "      <th>3</th>\n",
       "      <td>vasive procedure percutaneous cholecystotomy tube history of present illness this is a dg year old nursing home resident admitted from nursing and rehabilitation center with dg day history of abdomina</td>\n",
       "      <td>[390-459, 520-579, 680-709]</td>\n",
       "    </tr>\n",
       "  </tbody>\n",
       "</table>"
      ],
      "text/plain": [
       "<IPython.core.display.HTML object>"
      ]
     },
     "metadata": {},
     "output_type": "display_data"
    }
   ],
   "source": [
    "dls.show_batch(b)"
   ]
  },
  {
   "cell_type": "markdown",
   "metadata": {},
   "source": [
    "# Modelling"
   ]
  },
  {
   "cell_type": "code",
   "execution_count": 124,
   "metadata": {
    "ExecuteTime": {
     "end_time": "2020-04-21T01:09:33.073638Z",
     "start_time": "2020-04-21T01:09:29.585Z"
    }
   },
   "outputs": [],
   "source": [
    "from models.lstm_attn import *\n",
    "from models.lstm import *\n",
    "from loss.loss import *\n",
    "from fastai2.metrics import *\n",
    "from transformers import BertModel, BertConfig\n",
    "from utils import *"
   ]
  },
  {
   "cell_type": "code",
   "execution_count": 126,
   "metadata": {
    "ExecuteTime": {
     "end_time": "2020-04-21T01:09:33.074642Z",
     "start_time": "2020-04-21T01:09:29.979Z"
    }
   },
   "outputs": [],
   "source": [
    "V = len(fastai_bert_vocab)\n",
    "E = 50\n",
    "C = len(dsrc.tfms[1].vocab)"
   ]
  },
  {
   "cell_type": "code",
   "execution_count": 128,
   "metadata": {},
   "outputs": [],
   "source": [
    "#load_wordvectors(glove_path)\n",
    "weights_matrix = get_glove_matrix(glove_path, fastai_bert_vocab, emb_dim=E)"
   ]
  },
  {
   "cell_type": "code",
   "execution_count": 129,
   "metadata": {
    "ExecuteTime": {
     "end_time": "2020-04-21T01:09:33.075643Z",
     "start_time": "2020-04-21T01:09:30.402Z"
    }
   },
   "outputs": [
    {
     "name": "stdout",
     "output_type": "stream",
     "text": [
      "Embedding matrix loaded \n"
     ]
    }
   ],
   "source": [
    "# Loss function\n",
    "loss_func = ICD_Loss(ignore_index=0)\n",
    "\n",
    "# Metrics\n",
    "acc_02 = partial(accuracy_multi, thresh=0.2)\n",
    "f_score = F1ScoreMulti(thresh=0.2)\n",
    "\n",
    "# Configuration\n",
    "config = BertConfig.from_pretrained('bert-base-uncased') \n",
    "\n",
    "# Model\n",
    "#model = BiLSTMWithBertEmbedding(config,V=V, E=E, C=C)\n",
    "model = SelfAttentionLSTM(V=V, E=E, C=C, weights_matrix=weights_matrix)\n"
   ]
  },
  {
   "cell_type": "code",
   "execution_count": 130,
   "metadata": {
    "ExecuteTime": {
     "end_time": "2020-04-21T01:09:33.075643Z",
     "start_time": "2020-04-21T01:09:31.340Z"
    }
   },
   "outputs": [],
   "source": [
    "learn = Learner(dls, model, loss_func = loss_func, metrics=[acc_02, f_score])"
   ]
  },
  {
   "cell_type": "code",
   "execution_count": 135,
   "metadata": {
    "ExecuteTime": {
     "end_time": "2020-04-21T01:09:33.076646Z",
     "start_time": "2020-04-21T01:09:32.097Z"
    }
   },
   "outputs": [
    {
     "data": {
      "text/html": [],
      "text/plain": [
       "<IPython.core.display.HTML object>"
      ]
     },
     "metadata": {},
     "output_type": "display_data"
    },
    {
     "data": {
      "text/plain": [
       "(6.918309736647643e-07, 3.6307804407442745e-07)"
      ]
     },
     "execution_count": 135,
     "metadata": {},
     "output_type": "execute_result"
    },
    {
     "data": {
      "image/png": "[encoded data removed]",
      "text/plain": [
       "<Figure size 432x288 with 1 Axes>"
      ]
     },
     "metadata": {
      "needs_background": "light"
     },
     "output_type": "display_data"
    }
   ],
   "source": [
    "learn.lr_find()"
   ]
  },
  {
   "cell_type": "code",
   "execution_count": 132,
   "metadata": {
    "ExecuteTime": {
     "end_time": "2020-04-20T23:14:44.005992Z",
     "start_time": "2020-04-20T22:34:34.908864Z"
    }
   },
   "outputs": [
    {
     "data": {
      "text/html": [
       "<table border=\"1\" class=\"dataframe\">\n",
       "  <thead>\n",
       "    <tr style=\"text-align: left;\">\n",
       "      <th>epoch</th>\n",
       "      <th>train_loss</th>\n",
       "      <th>valid_loss</th>\n",
       "      <th>accuracy_multi</th>\n",
       "      <th>f1_score</th>\n",
       "      <th>time</th>\n",
       "    </tr>\n",
       "  </thead>\n",
       "  <tbody>\n",
       "    <tr>\n",
       "      <td>0</td>\n",
       "      <td>0.398279</td>\n",
       "      <td>0.376970</td>\n",
       "      <td>0.713686</td>\n",
       "      <td>0.492942</td>\n",
       "      <td>18:41</td>\n",
       "    </tr>\n",
       "    <tr>\n",
       "      <td>1</td>\n",
       "      <td>0.357065</td>\n",
       "      <td>0.352286</td>\n",
       "      <td>0.756227</td>\n",
       "      <td>0.512932</td>\n",
       "      <td>19:35</td>\n",
       "    </tr>\n",
       "    <tr>\n",
       "      <td>2</td>\n",
       "      <td>0.345289</td>\n",
       "      <td>0.338804</td>\n",
       "      <td>0.782151</td>\n",
       "      <td>0.530185</td>\n",
       "      <td>19:51</td>\n",
       "    </tr>\n",
       "  </tbody>\n",
       "</table>"
      ],
      "text/plain": [
       "<IPython.core.display.HTML object>"
      ]
     },
     "metadata": {},
     "output_type": "display_data"
    }
   ],
   "source": [
    "learn.fit_one_cycle(3, lr_max=4*10e-3)"
   ]
  },
  {
   "cell_type": "code",
   "execution_count": 134,
   "metadata": {},
   "outputs": [],
   "source": [
    "learn.save('3epoch')"
   ]
  },
  {
   "cell_type": "code",
   "execution_count": null,
   "metadata": {},
   "outputs": [
    {
     "data": {
      "text/html": [
       "\n",
       "    <div>\n",
       "        <style>\n",
       "            /* Turns off some styling */\n",
       "            progress {\n",
       "                /* gets rid of default border in Firefox and Opera. */\n",
       "                border: none;\n",
       "                /* Needs to be in here for Safari polyfill so background images work as expected. */\n",
       "                background-size: auto;\n",
       "            }\n",
       "            .progress-bar-interrupted, .progress-bar-interrupted::-webkit-progress-bar {\n",
       "                background: #F44336;\n",
       "            }\n",
       "        </style>\n",
       "      <progress value='2' class='' max='10', style='width:300px; height:20px; vertical-align: middle;'></progress>\n",
       "      20.00% [2/10 36:05<2:24:20]\n",
       "    </div>\n",
       "    \n",
       "<table border=\"1\" class=\"dataframe\">\n",
       "  <thead>\n",
       "    <tr style=\"text-align: left;\">\n",
       "      <th>epoch</th>\n",
       "      <th>train_loss</th>\n",
       "      <th>valid_loss</th>\n",
       "      <th>accuracy_multi</th>\n",
       "      <th>f1_score</th>\n",
       "      <th>time</th>\n",
       "    </tr>\n",
       "  </thead>\n",
       "  <tbody>\n",
       "    <tr>\n",
       "      <td>0</td>\n",
       "      <td>0.318498</td>\n",
       "      <td>0.337546</td>\n",
       "      <td>0.782292</td>\n",
       "      <td>0.529735</td>\n",
       "      <td>18:06</td>\n",
       "    </tr>\n",
       "    <tr>\n",
       "      <td>1</td>\n",
       "      <td>0.332647</td>\n",
       "      <td>0.334545</td>\n",
       "      <td>0.789247</td>\n",
       "      <td>0.535522</td>\n",
       "      <td>17:58</td>\n",
       "    </tr>\n",
       "  </tbody>\n",
       "</table><p>\n",
       "\n",
       "    <div>\n",
       "        <style>\n",
       "            /* Turns off some styling */\n",
       "            progress {\n",
       "                /* gets rid of default border in Firefox and Opera. */\n",
       "                border: none;\n",
       "                /* Needs to be in here for Safari polyfill so background images work as expected. */\n",
       "                background-size: auto;\n",
       "            }\n",
       "            .progress-bar-interrupted, .progress-bar-interrupted::-webkit-progress-bar {\n",
       "                background: #F44336;\n",
       "            }\n",
       "        </style>\n",
       "      <progress value='930' class='' max='3163', style='width:300px; height:20px; vertical-align: middle;'></progress>\n",
       "      29.40% [930/3163 04:42<11:19 0.3298]\n",
       "    </div>\n",
       "    "
      ],
      "text/plain": [
       "<IPython.core.display.HTML object>"
      ]
     },
     "metadata": {},
     "output_type": "display_data"
    }
   ],
   "source": [
    "learn.fit_one_cycle(10, lr_max=4*10e-4)\n",
    "learn.save('10epoch')"
   ]
  },
  {
   "cell_type": "markdown",
   "metadata": {},
   "source": [
    "# Show results"
   ]
  },
  {
   "cell_type": "code",
   "execution_count": 133,
   "metadata": {},
   "outputs": [
    {
     "data": {
      "image/png": "[encoded data removed]",
      "text/plain": [
       "<Figure size 432x288 with 1 Axes>"
      ]
     },
     "metadata": {
      "needs_background": "light"
     },
     "output_type": "display_data"
    }
   ],
   "source": [
    "learn.recorder.plot_loss()"
   ]
  },
  {
   "cell_type": "code",
   "execution_count": 136,
   "metadata": {},
   "outputs": [
    {
     "data": {
      "text/html": [],
      "text/plain": [
       "<IPython.core.display.HTML object>"
      ]
     },
     "metadata": {},
     "output_type": "display_data"
    },
    {
     "name": "stderr",
     "output_type": "stream",
     "text": [
      "/usr/local/lib/python3.6/dist-packages/sklearn/metrics/_classification.py:1515: UndefinedMetricWarning: F-score is ill-defined and being set to 0.0 in labels with no true nor predicted samples. Use `zero_division` parameter to control this behavior.\n",
      "  average, \"true nor predicted\", 'F-score is', len(true_sum)\n"
     ]
    },
    {
     "data": {
      "text/html": [
       "<table border=\"1\" class=\"dataframe\">\n",
       "  <thead>\n",
       "    <tr style=\"text-align: right;\">\n",
       "      <th></th>\n",
       "      <th>Text</th>\n",
       "      <th>Label</th>\n",
       "      <th>Result</th>\n",
       "    </tr>\n",
       "  </thead>\n",
       "  <tbody>\n",
       "    <tr>\n",
       "      <th>0</th>\n",
       "      <td>he patient is a dg f h o metastatic colon ca recently place on hospice care and s p bilateral nephrostomy tube placement she presented to the ed on with acute onset of r sided flank pain associated wi</td>\n",
       "      <td>[140-239, 240-279, 460-519, 520-579, 580-629]</td>\n",
       "      <td>[001-139, 140-239, 240-279, 290-319, 320-389, 390-459, 460-519, 520-579, 580-629, 780-789, 800-999]</td>\n",
       "    </tr>\n",
       "    <tr>\n",
       "      <th>1</th>\n",
       "      <td>tn dmdg hyperlipidemia who awoke from sleep at dgam feeling lousy subsequently had dg loose bowel movement then developed substernal chest pressure non radiating no sob diaphoresis he took one full as</td>\n",
       "      <td>[240-279, 390-459]</td>\n",
       "      <td>[240-279, 290-319, 320-389, 390-459, 580-629]</td>\n",
       "    </tr>\n",
       "    <tr>\n",
       "      <th>2</th>\n",
       "      <td>h spontaneous vaginal delivery in and a spontaneous abortion in maternal past medical history is unremarkable prenatal screens a positive antibody negative hepatitis b negative rpr nonreactive rubella</td>\n",
       "      <td>[760-779]</td>\n",
       "      <td>[760-779]</td>\n",
       "    </tr>\n",
       "    <tr>\n",
       "      <th>3</th>\n",
       "      <td>ich revealed a reversible apical wall defect and a partially reversible inferior wall defect with an ejection fraction of dg percent he also had an echocardiogram in which revealed an ejection fractio</td>\n",
       "      <td>[240-279, 390-459]</td>\n",
       "      <td>[240-279, 290-319, 390-459, 580-629, 800-999]</td>\n",
       "    </tr>\n",
       "  </tbody>\n",
       "</table>"
      ],
      "text/plain": [
       "<IPython.core.display.HTML object>"
      ]
     },
     "metadata": {},
     "output_type": "display_data"
    }
   ],
   "source": [
    "learn.show_results()"
   ]
  },
  {
   "cell_type": "code",
   "execution_count": null,
   "metadata": {},
   "outputs": [],
   "source": []
  }
 ],
 "metadata": {
  "kernelspec": {
   "display_name": "Python 3",
   "language": "python",
   "name": "python3"
  },
  "language_info": {
   "codemirror_mode": {
    "name": "ipython",
    "version": 3
   },
   "file_extension": ".py",
   "mimetype": "text/x-python",
   "name": "python",
   "nbconvert_exporter": "python",
   "pygments_lexer": "ipython3",
   "version": "3.6.8"
  }
 },
 "nbformat": 4,
 "nbformat_minor": 4
}
