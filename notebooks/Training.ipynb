{
 "cells": [
  {
   "cell_type": "code",
   "execution_count": 1,
   "metadata": {
    "ExecuteTime": {
     "end_time": "2020-04-21T00:29:30.817773Z",
     "start_time": "2020-04-21T00:29:30.717509Z"
    }
   },
   "outputs": [],
   "source": [
    "%load_ext autoreload\n",
    "%autoreload 2"
   ]
  },
  {
   "cell_type": "code",
   "execution_count": 2,
   "metadata": {
    "ExecuteTime": {
     "end_time": "2020-04-21T00:29:31.195138Z",
     "start_time": "2020-04-21T00:29:31.110910Z"
    }
   },
   "outputs": [],
   "source": [
    "import sys\n",
    "sys.path.insert(0,\"../src\")"
   ]
  },
  {
   "cell_type": "code",
   "execution_count": 3,
   "metadata": {
    "ExecuteTime": {
     "end_time": "2020-04-21T00:29:44.097401Z",
     "start_time": "2020-04-21T00:29:31.342564Z"
    }
   },
   "outputs": [],
   "source": [
    "import pandas as pd\n",
    "import numpy as np\n",
    "\n",
    "from fastai2 import *\n",
    "from fastai2.text.all import *\n",
    "import vectorize\n",
    "import helpers\n",
    "import transformers\n",
    "from utils import *\n",
    "from loss.loss import *"
   ]
  },
  {
   "cell_type": "markdown",
   "metadata": {},
   "source": [
    "# Load the data"
   ]
  },
  {
   "cell_type": "code",
   "execution_count": 4,
   "metadata": {
    "ExecuteTime": {
     "end_time": "2020-04-21T00:29:45.140117Z",
     "start_time": "2020-04-21T00:29:44.098335Z"
    }
   },
   "outputs": [],
   "source": [
    "full_df = pd.read_pickle(\"../data/full_df.pkl\")"
   ]
  },
  {
   "cell_type": "code",
   "execution_count": 5,
   "metadata": {
    "ExecuteTime": {
     "end_time": "2020-04-21T00:30:19.521458Z",
     "start_time": "2020-04-21T00:29:45.143050Z"
    }
   },
   "outputs": [],
   "source": [
    "MAX_VOCAB = None\n",
    "MAX_SEQ_LENGTH = 5000\n",
    "full_df['TEXT_PROCESSED'] = vectorize.clean_notes(full_df, 'TEXT')"
   ]
  },
  {
   "cell_type": "code",
   "execution_count": 6,
   "metadata": {},
   "outputs": [],
   "source": [
    "full_df['ICD9_GRP_LIST'] = full_df.ICD9_GRP.apply(lambda x: re.split(\" +\", x.strip()))"
   ]
  },
  {
   "cell_type": "markdown",
   "metadata": {
    "ExecuteTime": {
     "end_time": "2020-04-19T20:15:55.355592Z",
     "start_time": "2020-04-19T20:15:55.099912Z"
    }
   },
   "source": [
    "# Training"
   ]
  },
  {
   "cell_type": "markdown",
   "metadata": {},
   "source": [
    "Create Item Transformations"
   ]
  },
  {
   "cell_type": "code",
   "execution_count": 7,
   "metadata": {},
   "outputs": [],
   "source": [
    "from transformers import BertConfig, BertForSequenceClassification, BertModel, BertTokenizer\n",
    "bert_tok = BertTokenizer.from_pretrained(\n",
    " \"bert-base-uncased\",\n",
    ")\n",
    "\n",
    "fastai_bert_vocab =L(bert_tok.vocab.keys())"
   ]
  },
  {
   "cell_type": "code",
   "execution_count": 8,
   "metadata": {},
   "outputs": [],
   "source": [
    "sample_df = full_df.sample(frac=1.0)"
   ]
  },
  {
   "cell_type": "code",
   "execution_count": 9,
   "metadata": {
    "ExecuteTime": {
     "end_time": "2020-04-21T01:09:32.609424Z",
     "start_time": "2020-04-21T01:09:26.073352Z"
    }
   },
   "outputs": [],
   "source": [
    "# For normal LSTM we don't need attention mask. We can set fill_to_max = False\n",
    "# For Attention LSTM we need it . Set fill_to_max = True\n",
    "\n",
    "item_tfms= [[ColReader('TEXT_PROCESSED'), FastAIBertTokenizer(tokenizer=bert_tok,max_seq_len=5000,fill_to_max=False)],\n",
    "            [ColReader('ICD9_GRP_LIST') , MultiCategorize, OneHotEncode]\n",
    "           ]\n",
    "\n",
    "# Create datasource & dataloaders \n",
    "\n",
    "splits = RandomSplitter()(range_of(sample_df))\n",
    "dsrc = Datasets(sample_df, tfms=item_tfms, splits=splits)\n",
    "dls = dsrc.dataloaders(bs=16)"
   ]
  },
  {
   "cell_type": "markdown",
   "metadata": {},
   "source": [
    "Testing dataloaders"
   ]
  },
  {
   "cell_type": "code",
   "execution_count": 10,
   "metadata": {
    "ExecuteTime": {
     "end_time": "2020-04-21T01:09:33.070698Z",
     "start_time": "2020-04-21T01:09:32.610358Z"
    }
   },
   "outputs": [],
   "source": [
    "b = dls.one_batch()"
   ]
  },
  {
   "cell_type": "markdown",
   "metadata": {},
   "source": [
    "Showing batch"
   ]
  },
  {
   "cell_type": "code",
   "execution_count": 11,
   "metadata": {
    "ExecuteTime": {
     "end_time": "2020-04-21T01:09:33.072633Z",
     "start_time": "2020-04-21T01:09:28.328Z"
    }
   },
   "outputs": [],
   "source": [
    "@typedispatch\n",
    "def show_batch(x, y, samples, ctxs=None, max_n=9, **kwargs):\n",
    "    if ctxs is None: ctxs = Inf.nones\n",
    "    \n",
    "    # samples[0] contains str , samples[1] contains str\n",
    "    text_samples = []\n",
    "    label_samples = []\n",
    "    for i in range_of(samples):\n",
    "        text_samples.append(samples[i][0][0][300:500])\n",
    "        actual_labels = [l for l in samples[i][1] if l != \"\"]\n",
    "        label_samples.append(actual_labels)\n",
    "    \n",
    "    df = pd.DataFrame({'Text': text_samples, 'Label': label_samples})\n",
    "    display_df(df)\n",
    "\n",
    "    return ctxs"
   ]
  },
  {
   "cell_type": "code",
   "execution_count": 12,
   "metadata": {},
   "outputs": [],
   "source": [
    "@typedispatch\n",
    "def show_results(x, y, samples, outs, ctxs=None, max_n=9, **kwargs):\n",
    "    if ctxs is None: ctxs = Inf.nones\n",
    "        \n",
    "        # samples[0] contains str , samples[1] contains str\n",
    "    text_samples = []\n",
    "    label_samples = []\n",
    "    result_samples = []\n",
    "    for i in range_of(samples):\n",
    "        text_samples.append(samples[i][0][0][300:500])\n",
    "        actual_labels = [l for l in samples[i][1] if l != \"\"]\n",
    "        label_samples.append(actual_labels)\n",
    "        result_samples.append(outs[i][0])\n",
    "    df = pd.DataFrame({'Text': text_samples, 'Label': label_samples,'Result': result_samples})\n",
    "    display_df(df)\n",
    "    \n",
    "    return ctxs"
   ]
  },
  {
   "cell_type": "code",
   "execution_count": 13,
   "metadata": {
    "ExecuteTime": {
     "end_time": "2020-04-21T01:09:33.073638Z",
     "start_time": "2020-04-21T01:09:28.777Z"
    }
   },
   "outputs": [
    {
     "data": {
      "text/html": [
       "<table border=\"1\" class=\"dataframe\">\n",
       "  <thead>\n",
       "    <tr style=\"text-align: right;\">\n",
       "      <th></th>\n",
       "      <th>Text</th>\n",
       "      <th>Label</th>\n",
       "    </tr>\n",
       "  </thead>\n",
       "  <tbody>\n",
       "    <tr>\n",
       "      <th>0</th>\n",
       "      <td>llness dg y o woman w sclc metastatic s p xrt chemo with recent non response to chemotherapy admitted to with dyspnea she was found to have a right upper lobe collapse and a pleural effusion a pleurex</td>\n",
       "      <td>[140-239, 240-279, 290-319, 320-389, 390-459, 460-519, 680-709, 800-999]</td>\n",
       "    </tr>\n",
       "    <tr>\n",
       "      <th>1</th>\n",
       "      <td>as s p mvr on anticoagulation severe copd and cryptogenic cirrhosis who presented from osh with hyponatremia and change in mental status transferred to ccu for sob on review of discharge summary from</td>\n",
       "      <td>[240-279, 390-459, 460-519, 520-579, 580-629, 680-709, 780-789]</td>\n",
       "    </tr>\n",
       "    <tr>\n",
       "      <th>2</th>\n",
       "      <td>vc filter recurrent uti advanced dementia who comes in from nh after being found unresponsive she was reportedly unresponsive for dg dgm and hypoxic at dg put on nrb and was dg so was brought in repor</td>\n",
       "      <td>[240-279, 290-319, 320-389, 390-459]</td>\n",
       "    </tr>\n",
       "    <tr>\n",
       "      <th>3</th>\n",
       "      <td>ng admissions in and of obscure overt with last egd gastritis duodenitis with erosions but no frank ulcers diverticulosis atrial fibrillation on coumadin chf preserved ef with dg mr who presents with</td>\n",
       "      <td>[001-139, 240-279, 290-319, 320-389, 390-459, 680-709]</td>\n",
       "    </tr>\n",
       "    <tr>\n",
       "      <th>4</th>\n",
       "      <td>gm with history of alcohol abuse bcc fungal pericarditis hypopharyngeal cancer currently undergoing xrt who presents with fevers respiratory distress and transferred to the icu for close monitoring pt</td>\n",
       "      <td>[001-139, 140-239, 240-279, 290-319, 320-389, 390-459, 460-519, 780-789, 790-796, 799, 800-999]</td>\n",
       "    </tr>\n",
       "    <tr>\n",
       "      <th>5</th>\n",
       "      <td>tion to his usual dg mg around dg dg a m the patient fell out of bed with continued snoring his heart rate was dg dg with variable respiratory rate the patient seemed to be short of breath oxygen was</td>\n",
       "      <td>[240-279, 290-319, 390-459, 460-519, 780-789, 800-999]</td>\n",
       "    </tr>\n",
       "    <tr>\n",
       "      <th>6</th>\n",
       "      <td>vessel balloon angioplasty with no stents htn hypercholesterolemia h o v fib arrest in dm who presented to osh after witnessed episode of syncope lasting dg minutes ems called by wife the ems found p</td>\n",
       "      <td>[240-279, 290-319, 390-459, 780-789]</td>\n",
       "    </tr>\n",
       "    <tr>\n",
       "      <th>7</th>\n",
       "      <td>dg hours vomited x dg at scene awake on ems arrival c o headache dizziness taken by ems to osh neurologically intact found to have stable cdg fracture was transferred to for further evaluation and st</td>\n",
       "      <td>[390-459, 520-579, 800-999]</td>\n",
       "    </tr>\n",
       "    <tr>\n",
       "      <th>8</th>\n",
       "      <td>emale with a history of etoh abuse untreated hcv likely cirrhosis grade i esophageal varices esophagitis and gave on endoscopy and recent hospitalization for c diff colitis presents with persistent ab</td>\n",
       "      <td>[001-139, 290-319, 390-459, 520-579, 780-789]</td>\n",
       "    </tr>\n",
       "  </tbody>\n",
       "</table>"
      ],
      "text/plain": [
       "<IPython.core.display.HTML object>"
      ]
     },
     "metadata": {},
     "output_type": "display_data"
    }
   ],
   "source": [
    "dls.show_batch(b)"
   ]
  },
  {
   "cell_type": "markdown",
   "metadata": {},
   "source": [
    "# Modelling"
   ]
  },
  {
   "cell_type": "code",
   "execution_count": 14,
   "metadata": {
    "ExecuteTime": {
     "end_time": "2020-04-21T01:09:33.073638Z",
     "start_time": "2020-04-21T01:09:29.585Z"
    }
   },
   "outputs": [],
   "source": [
    "from models.lstm_attn import *\n",
    "from models.lstm import *\n",
    "from models.bert_clinical import *\n",
    "from loss.loss import *\n",
    "from fastai2.metrics import *\n",
    "from transformers import BertModel, BertConfig\n",
    "from utils import *"
   ]
  },
  {
   "cell_type": "code",
   "execution_count": 15,
   "metadata": {
    "ExecuteTime": {
     "end_time": "2020-04-21T01:09:33.074642Z",
     "start_time": "2020-04-21T01:09:29.979Z"
    }
   },
   "outputs": [],
   "source": [
    "V = len(fastai_bert_vocab)\n",
    "E = 200\n",
    "C = len(dsrc.tfms[1].vocab)"
   ]
  },
  {
   "cell_type": "code",
   "execution_count": 17,
   "metadata": {},
   "outputs": [],
   "source": [
    "#load_wordvectors(glove_path)\n",
    "glove_path = \"../data\"\n",
    "#weights_matrix = get_glove_matrix(glove_path, fastai_bert_vocab, emb_dim=E)"
   ]
  },
  {
   "cell_type": "code",
   "execution_count": 18,
   "metadata": {
    "ExecuteTime": {
     "end_time": "2020-04-21T01:09:33.075643Z",
     "start_time": "2020-04-21T01:09:30.402Z"
    }
   },
   "outputs": [],
   "source": [
    "# Loss function\n",
    "loss_func = ICD_Loss(ignore_index=0)\n",
    "\n",
    "# Metrics\n",
    "acc_02 = partial(accuracy_multi, thresh=0.5)\n",
    "f_score = F1ScoreMulti(thresh=0.5)\n",
    "\n",
    "# Configuration\n",
    "config = BertConfig.from_pretrained('bert-base-uncased') \n",
    "\n",
    "# Model\n",
    "#model = BertClinical(config, C)\n",
    "#model = BiLSTMWithBertEmbedding(config,V=V, E=E, C=C)\n",
    "#model = SelfAttentionLSTM(V=V, E=E, C=C, weights_matrix=weights_matrix)\n",
    "model = SelfAttentionLSTM(V=V, E=E, C=C, weights_matrix=None)\n"
   ]
  },
  {
   "cell_type": "code",
   "execution_count": 19,
   "metadata": {
    "ExecuteTime": {
     "end_time": "2020-04-21T01:09:33.075643Z",
     "start_time": "2020-04-21T01:09:31.340Z"
    }
   },
   "outputs": [],
   "source": [
    "learn = Learner(dls, model, loss_func = loss_func, metrics=[acc_02, f_score])"
   ]
  },
  {
   "cell_type": "code",
   "execution_count": 39,
   "metadata": {
    "ExecuteTime": {
     "end_time": "2020-04-21T01:09:33.076646Z",
     "start_time": "2020-04-21T01:09:32.097Z"
    }
   },
   "outputs": [
    {
     "data": {
      "text/html": [],
      "text/plain": [
       "<IPython.core.display.HTML object>"
      ]
     },
     "metadata": {},
     "output_type": "display_data"
    },
    {
     "data": {
      "text/plain": [
       "(0.014454397559165954, 0.0012022644514217973)"
      ]
     },
     "execution_count": 39,
     "metadata": {},
     "output_type": "execute_result"
    },
    {
     "data": {
      "image/png": "[encoded data removed]",
      "text/plain": [
       "<Figure size 432x288 with 1 Axes>"
      ]
     },
     "metadata": {
      "needs_background": "light"
     },
     "output_type": "display_data"
    }
   ],
   "source": [
    "learn.lr_find()"
   ]
  },
  {
   "cell_type": "code",
   "execution_count": 40,
   "metadata": {
    "ExecuteTime": {
     "end_time": "2020-04-20T23:14:44.005992Z",
     "start_time": "2020-04-20T22:34:34.908864Z"
    }
   },
   "outputs": [
    {
     "data": {
      "text/html": [
       "<table border=\"1\" class=\"dataframe\">\n",
       "  <thead>\n",
       "    <tr style=\"text-align: left;\">\n",
       "      <th>epoch</th>\n",
       "      <th>train_loss</th>\n",
       "      <th>valid_loss</th>\n",
       "      <th>accuracy_multi</th>\n",
       "      <th>f1_score</th>\n",
       "      <th>time</th>\n",
       "    </tr>\n",
       "  </thead>\n",
       "  <tbody>\n",
       "    <tr>\n",
       "      <td>0</td>\n",
       "      <td>0.311528</td>\n",
       "      <td>0.292058</td>\n",
       "      <td>0.873233</td>\n",
       "      <td>0.496575</td>\n",
       "      <td>27:38</td>\n",
       "    </tr>\n",
       "  </tbody>\n",
       "</table>"
      ],
      "text/plain": [
       "<IPython.core.display.HTML object>"
      ]
     },
     "metadata": {},
     "output_type": "display_data"
    },
    {
     "name": "stderr",
     "output_type": "stream",
     "text": [
      "/usr/local/lib/python3.6/dist-packages/sklearn/metrics/_classification.py:1515: UndefinedMetricWarning: F-score is ill-defined and being set to 0.0 in labels with no true nor predicted samples. Use `zero_division` parameter to control this behavior.\n",
      "  average, \"true nor predicted\", 'F-score is', len(true_sum)\n"
     ]
    }
   ],
   "source": [
    "learn.fit_one_cycle(1, lr_max=4*10e-3)"
   ]
  },
  {
   "cell_type": "code",
   "execution_count": 42,
   "metadata": {},
   "outputs": [],
   "source": [
    "learn.save('1epoch')"
   ]
  },
  {
   "cell_type": "code",
   "execution_count": 43,
   "metadata": {},
   "outputs": [
    {
     "data": {
      "text/html": [],
      "text/plain": [
       "<IPython.core.display.HTML object>"
      ]
     },
     "metadata": {},
     "output_type": "display_data"
    },
    {
     "data": {
      "text/plain": [
       "(0.014454397559165954, 3.6307804407442745e-07)"
      ]
     },
     "execution_count": 43,
     "metadata": {},
     "output_type": "execute_result"
    },
    {
     "data": {
      "image/png": "[encoded data removed]",
      "text/plain": [
       "<Figure size 432x288 with 1 Axes>"
      ]
     },
     "metadata": {
      "needs_background": "light"
     },
     "output_type": "display_data"
    }
   ],
   "source": [
    "learn.lr_find()"
   ]
  },
  {
   "cell_type": "code",
   "execution_count": null,
   "metadata": {},
   "outputs": [],
   "source": [
    "learn.save('3epoch_again')"
   ]
  },
  {
   "cell_type": "code",
   "execution_count": 20,
   "metadata": {},
   "outputs": [
    {
     "data": {
      "text/plain": [
       "<fastai2.learner.Learner at 0x7feaeb27b390>"
      ]
     },
     "execution_count": 20,
     "metadata": {},
     "output_type": "execute_result"
    }
   ],
   "source": [
    "learn.load(\"10epoch\")"
   ]
  },
  {
   "cell_type": "code",
   "execution_count": null,
   "metadata": {},
   "outputs": [],
   "source": [
    "learn.load('3epoch_again')"
   ]
  },
  {
   "cell_type": "code",
   "execution_count": 44,
   "metadata": {},
   "outputs": [
    {
     "data": {
      "text/html": [
       "<table border=\"1\" class=\"dataframe\">\n",
       "  <thead>\n",
       "    <tr style=\"text-align: left;\">\n",
       "      <th>epoch</th>\n",
       "      <th>train_loss</th>\n",
       "      <th>valid_loss</th>\n",
       "      <th>accuracy_multi</th>\n",
       "      <th>f1_score</th>\n",
       "      <th>time</th>\n",
       "    </tr>\n",
       "  </thead>\n",
       "  <tbody>\n",
       "    <tr>\n",
       "      <td>0</td>\n",
       "      <td>0.318507</td>\n",
       "      <td>0.302150</td>\n",
       "      <td>0.868082</td>\n",
       "      <td>0.481341</td>\n",
       "      <td>27:35</td>\n",
       "    </tr>\n",
       "    <tr>\n",
       "      <td>1</td>\n",
       "      <td>0.309471</td>\n",
       "      <td>0.290448</td>\n",
       "      <td>0.874172</td>\n",
       "      <td>0.502943</td>\n",
       "      <td>27:45</td>\n",
       "    </tr>\n",
       "    <tr>\n",
       "      <td>2</td>\n",
       "      <td>0.281495</td>\n",
       "      <td>0.277936</td>\n",
       "      <td>0.881284</td>\n",
       "      <td>0.522471</td>\n",
       "      <td>27:52</td>\n",
       "    </tr>\n",
       "  </tbody>\n",
       "</table>"
      ],
      "text/plain": [
       "<IPython.core.display.HTML object>"
      ]
     },
     "metadata": {},
     "output_type": "display_data"
    },
    {
     "name": "stderr",
     "output_type": "stream",
     "text": [
      "/usr/local/lib/python3.6/dist-packages/sklearn/metrics/_classification.py:1515: UndefinedMetricWarning: F-score is ill-defined and being set to 0.0 in labels with no true nor predicted samples. Use `zero_division` parameter to control this behavior.\n",
      "  average, \"true nor predicted\", 'F-score is', len(true_sum)\n"
     ]
    }
   ],
   "source": [
    "learn.fit_one_cycle(3, lr_max=3*10e-3)\n",
    "learn.save('3epoch_after')"
   ]
  },
  {
   "cell_type": "code",
   "execution_count": 32,
   "metadata": {},
   "outputs": [
    {
     "data": {
      "text/html": [],
      "text/plain": [
       "<IPython.core.display.HTML object>"
      ]
     },
     "metadata": {},
     "output_type": "display_data"
    },
    {
     "data": {
      "text/plain": [
       "(2.0892961401841602e-06, 3.019951861915615e-07)"
      ]
     },
     "execution_count": 32,
     "metadata": {},
     "output_type": "execute_result"
    },
    {
     "data": {
      "image/png": "[encoded data removed]",
      "text/plain": [
       "<Figure size 432x288 with 1 Axes>"
      ]
     },
     "metadata": {
      "needs_background": "light"
     },
     "output_type": "display_data"
    }
   ],
   "source": [
    "learn.lr_find()"
   ]
  },
  {
   "cell_type": "code",
   "execution_count": 33,
   "metadata": {},
   "outputs": [
    {
     "data": {
      "text/html": [
       "<table border=\"1\" class=\"dataframe\">\n",
       "  <thead>\n",
       "    <tr style=\"text-align: left;\">\n",
       "      <th>epoch</th>\n",
       "      <th>train_loss</th>\n",
       "      <th>valid_loss</th>\n",
       "      <th>accuracy_multi</th>\n",
       "      <th>f1_score</th>\n",
       "      <th>time</th>\n",
       "    </tr>\n",
       "  </thead>\n",
       "  <tbody>\n",
       "    <tr>\n",
       "      <td>0</td>\n",
       "      <td>0.313616</td>\n",
       "      <td>0.304200</td>\n",
       "      <td>0.866230</td>\n",
       "      <td>0.485137</td>\n",
       "      <td>35:41</td>\n",
       "    </tr>\n",
       "    <tr>\n",
       "      <td>1</td>\n",
       "      <td>0.306687</td>\n",
       "      <td>0.289466</td>\n",
       "      <td>0.875344</td>\n",
       "      <td>0.501721</td>\n",
       "      <td>35:54</td>\n",
       "    </tr>\n",
       "    <tr>\n",
       "      <td>2</td>\n",
       "      <td>0.276990</td>\n",
       "      <td>0.276839</td>\n",
       "      <td>0.882013</td>\n",
       "      <td>0.522568</td>\n",
       "      <td>35:55</td>\n",
       "    </tr>\n",
       "  </tbody>\n",
       "</table>"
      ],
      "text/plain": [
       "<IPython.core.display.HTML object>"
      ]
     },
     "metadata": {},
     "output_type": "display_data"
    }
   ],
   "source": [
    "learn.fit_one_cycle(3, lr_max=3*10e-3)\n",
    "learn.save('4epoch_after')"
   ]
  },
  {
   "cell_type": "code",
   "execution_count": 20,
   "metadata": {},
   "outputs": [
    {
     "data": {
      "text/plain": [
       "<fastai2.learner.Learner at 0x7f70029ce550>"
      ]
     },
     "execution_count": 20,
     "metadata": {},
     "output_type": "execute_result"
    }
   ],
   "source": [
    "learn.load('3epoch_after')"
   ]
  },
  {
   "cell_type": "markdown",
   "metadata": {},
   "source": [
    "# Show results"
   ]
  },
  {
   "cell_type": "code",
   "execution_count": null,
   "metadata": {},
   "outputs": [],
   "source": [
    "learn.recorder.plot_loss()"
   ]
  },
  {
   "cell_type": "code",
   "execution_count": 21,
   "metadata": {},
   "outputs": [
    {
     "data": {
      "text/html": [],
      "text/plain": [
       "<IPython.core.display.HTML object>"
      ]
     },
     "metadata": {},
     "output_type": "display_data"
    },
    {
     "name": "stderr",
     "output_type": "stream",
     "text": [
      "/usr/local/lib/python3.6/dist-packages/sklearn/metrics/_classification.py:1515: UndefinedMetricWarning: F-score is ill-defined and being set to 0.0 in labels with no true nor predicted samples. Use `zero_division` parameter to control this behavior.\n",
      "  average, \"true nor predicted\", 'F-score is', len(true_sum)\n"
     ]
    },
    {
     "data": {
      "text/html": [
       "<table border=\"1\" class=\"dataframe\">\n",
       "  <thead>\n",
       "    <tr style=\"text-align: right;\">\n",
       "      <th></th>\n",
       "      <th>Text</th>\n",
       "      <th>Label</th>\n",
       "      <th>Result</th>\n",
       "    </tr>\n",
       "  </thead>\n",
       "  <tbody>\n",
       "    <tr>\n",
       "      <th>0</th>\n",
       "      <td>c attack nonischemic cardiomyopathy ef dg dg s p ventricular fibrillation arrest with clean coronaries at that time and s p aicd placement who presents as a transfer from osh for management of bactere</td>\n",
       "      <td>[001-139, 290-319, 390-459, 580-629, 800-999]</td>\n",
       "      <td>[001-139, 240-279, 290-319, 320-389, 390-459, 460-519, 520-579, 580-629, 710-739, 780-789, 790-796, 800-999]</td>\n",
       "    </tr>\n",
       "    <tr>\n",
       "      <th>1</th>\n",
       "      <td>sided weakness the patient has had a right ear lesion removed with unknown pathology physical examination the patient was awake and alert with aphasia good comprehension following multi step commands</td>\n",
       "      <td>[140-239, 320-389, 390-459, 780-789]</td>\n",
       "      <td>[140-239, 240-279, 290-319, 390-459, 780-789]</td>\n",
       "    </tr>\n",
       "    <tr>\n",
       "      <th>2</th>\n",
       "      <td>ure percutaneous tracheostomy placement dg portex cuffed with inner cannula past medical history pmh htn dyslipidemia hypothyroidism diverticulitis colon ca large ventral and parastomal hernias chroni</td>\n",
       "      <td>[240-279, 390-459, 460-519, 520-579, 580-629, 710-739, 780-789]</td>\n",
       "      <td>[001-139, 240-279, 290-319, 320-389, 390-459, 460-519, 520-579, 580-629, 680-709, 710-739, 780-789, 800-999]</td>\n",
       "    </tr>\n",
       "    <tr>\n",
       "      <th>3</th>\n",
       "      <td>to the hospital from wtih hypoglycemia he was evaluated by endocrinology at that time and the most likely etiology of his hypoglycemia was felt to be pre diabetes causing hyperinsulinemia work up reve</td>\n",
       "      <td>[240-279, 290-319, 390-459, 460-519, 580-629, 800-999]</td>\n",
       "      <td>[240-279, 290-319, 320-389, 390-459, 460-519, 580-629, 780-789]</td>\n",
       "    </tr>\n",
       "    <tr>\n",
       "      <th>4</th>\n",
       "      <td>ronic obstructive pulmonary disease severe refractory hypertension type dg diabetes mellitus and chronic renal insufficiency who presents from rehabilitation followed there by the pulmonary interventi</td>\n",
       "      <td>[240-279, 390-459, 460-519, 580-629, 680-709]</td>\n",
       "      <td>[001-139, 240-279, 290-319, 390-459, 460-519, 580-629, 680-709, 780-789, 800-999]</td>\n",
       "    </tr>\n",
       "    <tr>\n",
       "      <th>5</th>\n",
       "      <td>ater with greater than dg bowel movements a day for one day one day prior to admission had weakness when standing also had temperature of dg decreased p o's after arrival in the emergency department u</td>\n",
       "      <td>[001-139, 240-279, 390-459, 580-629, 800-999]</td>\n",
       "      <td>[001-139, 240-279, 290-319, 390-459, 520-579, 580-629, 710-739, 780-789, 800-999]</td>\n",
       "    </tr>\n",
       "    <tr>\n",
       "      <th>6</th>\n",
       "      <td>presents with upper gastrointestinal bleed the patient had developed hematemesis with coffee grounds he has a history of upper gi bleed with nsaids in and he recently started taking aspirin esophagog</td>\n",
       "      <td>[001-139, 290-319, 390-459, 520-579, 680-709, 800-999]</td>\n",
       "      <td>[240-279, 290-319, 390-459, 520-579, 580-629, 680-709, 710-739, 780-789]</td>\n",
       "    </tr>\n",
       "    <tr>\n",
       "      <th>7</th>\n",
       "      <td>t for coronary artery disease with multiple stents to lcx and lad diabetes hypertension who was admitted two months ago for gi bleed and nstemi and now presents from osh with chest pain this morning h</td>\n",
       "      <td>[240-279, 290-319, 390-459, 460-519, 520-579, 580-629]</td>\n",
       "      <td>[240-279, 290-319, 390-459, 460-519, 520-579, 580-629, 780-789, 800-999]</td>\n",
       "    </tr>\n",
       "    <tr>\n",
       "      <th>8</th>\n",
       "      <td>de hospital after he presented with expressive aphagia on in the setting of profound thrombocytopenia a head ct he was transferred to the micu in the micu a neurosurgery consult was obtained the neuro</td>\n",
       "      <td>[140-239, 240-279, 390-459, 710-739, 780-789]</td>\n",
       "      <td>[140-239, 240-279, 290-319, 390-459, 520-579, 580-629, 780-789, 800-999]</td>\n",
       "    </tr>\n",
       "  </tbody>\n",
       "</table>"
      ],
      "text/plain": [
       "<IPython.core.display.HTML object>"
      ]
     },
     "metadata": {},
     "output_type": "display_data"
    }
   ],
   "source": [
    "learn.show_results()"
   ]
  },
  {
   "cell_type": "code",
   "execution_count": 31,
   "metadata": {},
   "outputs": [],
   "source": [
    "#preds,targs = learn.get_preds()\n"
   ]
  },
  {
   "cell_type": "code",
   "execution_count": 25,
   "metadata": {},
   "outputs": [],
   "source": [
    "preds_copy = preds.detach()"
   ]
  },
  {
   "cell_type": "code",
   "execution_count": 26,
   "metadata": {},
   "outputs": [],
   "source": [
    "preds_copy[preds_copy> 0.5] = 1\n",
    "preds_copy[preds_copy<=0.5] = 0"
   ]
  },
  {
   "cell_type": "code",
   "execution_count": 27,
   "metadata": {},
   "outputs": [],
   "source": [
    "from sklearn.metrics import confusion_matrix, accuracy_score, multilabel_confusion_matrix, classification_report\n"
   ]
  },
  {
   "cell_type": "code",
   "execution_count": 28,
   "metadata": {},
   "outputs": [
    {
     "data": {
      "text/plain": [
       "array([[[10542,     0],\n",
       "        [    2,     0]],\n",
       "\n",
       "       [[ 7409,   367],\n",
       "        [ 1049,  1719]],\n",
       "\n",
       "       [[ 8678,   124],\n",
       "        [  524,  1218]],\n",
       "\n",
       "       [[ 2224,  1330],\n",
       "        [  604,  6386]],\n",
       "\n",
       "       [[ 3794,  1165],\n",
       "        [ 1238,  4347]],\n",
       "\n",
       "       [[ 7005,   437],\n",
       "        [ 1444,  1658]],\n",
       "\n",
       "       [[ 1481,   725],\n",
       "        [  282,  8056]],\n",
       "\n",
       "       [[ 5101,   492],\n",
       "        [ 1068,  3883]],\n",
       "\n",
       "       [[ 5953,   450],\n",
       "        [ 1086,  3055]],\n",
       "\n",
       "       [[ 5821,   465],\n",
       "        [ 1121,  3137]],\n",
       "\n",
       "       [[10518,     0],\n",
       "        [   26,     0]],\n",
       "\n",
       "       [[ 9261,    78],\n",
       "        [  826,   379]],\n",
       "\n",
       "       [[ 8430,   196],\n",
       "        [ 1227,   691]],\n",
       "\n",
       "       [[ 9487,     3],\n",
       "        [  332,   722]],\n",
       "\n",
       "       [[ 6774,   535],\n",
       "        [ 2214,  1021]],\n",
       "\n",
       "       [[ 9674,     1],\n",
       "        [  867,     2]],\n",
       "\n",
       "       [[10544,     0],\n",
       "        [    0,     0]],\n",
       "\n",
       "       [[10239,     0],\n",
       "        [  305,     0]],\n",
       "\n",
       "       [[ 5536,   609],\n",
       "        [ 1524,  2875]]])"
      ]
     },
     "execution_count": 28,
     "metadata": {},
     "output_type": "execute_result"
    }
   ],
   "source": [
    "multilabel_confusion_matrix(targs, preds_copy)"
   ]
  },
  {
   "cell_type": "code",
   "execution_count": 29,
   "metadata": {},
   "outputs": [
    {
     "name": "stdout",
     "output_type": "stream",
     "text": [
      "              precision    recall  f1-score   support\n",
      "\n",
      "           0       0.00      0.00      0.00         2\n",
      "           1       0.82      0.62      0.71      2768\n",
      "           2       0.91      0.70      0.79      1742\n",
      "           3       0.83      0.91      0.87      6990\n",
      "           4       0.79      0.78      0.78      5585\n",
      "           5       0.79      0.53      0.64      3102\n",
      "           6       0.92      0.97      0.94      8338\n",
      "           7       0.89      0.78      0.83      4951\n",
      "           8       0.87      0.74      0.80      4141\n",
      "           9       0.87      0.74      0.80      4258\n",
      "          10       0.00      0.00      0.00        26\n",
      "          11       0.83      0.31      0.46      1205\n",
      "          12       0.78      0.36      0.49      1918\n",
      "          13       1.00      0.69      0.81      1054\n",
      "          14       0.66      0.32      0.43      3235\n",
      "          15       0.67      0.00      0.00       869\n",
      "          16       0.00      0.00      0.00         0\n",
      "          17       0.00      0.00      0.00       305\n",
      "          18       0.83      0.65      0.73      4399\n",
      "\n",
      "   micro avg       0.85      0.71      0.78     54888\n",
      "   macro avg       0.65      0.48      0.53     54888\n",
      "weighted avg       0.83      0.71      0.75     54888\n",
      " samples avg       0.87      0.72      0.76     54888\n",
      "\n"
     ]
    },
    {
     "name": "stderr",
     "output_type": "stream",
     "text": [
      "/usr/local/lib/python3.6/dist-packages/sklearn/metrics/_classification.py:1272: UndefinedMetricWarning: Precision and F-score are ill-defined and being set to 0.0 in labels with no predicted samples. Use `zero_division` parameter to control this behavior.\n",
      "  _warn_prf(average, modifier, msg_start, len(result))\n",
      "/usr/local/lib/python3.6/dist-packages/sklearn/metrics/_classification.py:1272: UndefinedMetricWarning: Recall and F-score are ill-defined and being set to 0.0 in labels with no true samples. Use `zero_division` parameter to control this behavior.\n",
      "  _warn_prf(average, modifier, msg_start, len(result))\n",
      "/usr/local/lib/python3.6/dist-packages/sklearn/metrics/_classification.py:1272: UndefinedMetricWarning: Precision and F-score are ill-defined and being set to 0.0 in samples with no predicted labels. Use `zero_division` parameter to control this behavior.\n",
      "  _warn_prf(average, modifier, msg_start, len(result))\n"
     ]
    }
   ],
   "source": [
    "print(classification_report(targs, preds_copy))"
   ]
  },
  {
   "cell_type": "code",
   "execution_count": null,
   "metadata": {},
   "outputs": [],
   "source": [
    "def accuracy_multi(inp, targ, thresh=0.5, sigmoid=True):\n",
    "    \"Compute accuracy when `inp` and `targ` are the same size.\"\n",
    "    inp,targ = flatten_check(inp,targ)\n",
    "    if sigmoid: inp = inp.sigmoid()\n",
    "    return ((inp>thresh)==targ.bool()).float().mean()"
   ]
  },
  {
   "cell_type": "code",
   "execution_count": null,
   "metadata": {},
   "outputs": [],
   "source": [
    "accuracy_multi(preds, targs, thresh=0.9, sigmoid=False)\n"
   ]
  },
  {
   "cell_type": "code",
   "execution_count": null,
   "metadata": {},
   "outputs": [],
   "source": [
    "xs = torch.linspace(0.05,0.95,29)\n",
    "accs = [accuracy_multi(preds, targs, thresh=i, sigmoid=False) for i in xs]\n",
    "plt.plot(xs,accs);"
   ]
  },
  {
   "cell_type": "markdown",
   "metadata": {},
   "source": [
    "SelfAttentionWithLSTM\n",
    "\n",
    "3 epoch:\n",
    "\n",
    "10 epoch:\n",
    "\n"
   ]
  },
  {
   "cell_type": "markdown",
   "metadata": {},
   "source": [
    "# Inference"
   ]
  },
  {
   "cell_type": "code",
   "execution_count": null,
   "metadata": {},
   "outputs": [],
   "source": [
    "def predict(txt):\n",
    "    processed_items = TfmdLists([txt], tfms=FastAIBertTokenizer(tokenizer=bert_tok))\n",
    "    print(processed_items)\n",
    "    tags = learn.predict(processed_items[0],with_input=True)\n",
    "    #for k,v in zip(tags[0][0], tags[1][0]):\n",
    "    #    print(k, v)"
   ]
  },
  {
   "cell_type": "code",
   "execution_count": null,
   "metadata": {},
   "outputs": [],
   "source": [
    "item=\"Cardio vascular therapy\"\n",
    "predict(item)"
   ]
  },
  {
   "cell_type": "code",
   "execution_count": null,
   "metadata": {},
   "outputs": [],
   "source": [
    "%debug"
   ]
  },
  {
   "cell_type": "code",
   "execution_count": null,
   "metadata": {},
   "outputs": [],
   "source": [
    "item=\"Cardio vascular therapy\"\n",
    "test = pd.DataFrame({\"TEXT_PROCESSED\": [item], \"ICD9_GRP_LIST\":[\"\"]})\n",
    "test.head()\n",
    "learn.predict(item)"
   ]
  },
  {
   "cell_type": "code",
   "execution_count": null,
   "metadata": {},
   "outputs": [],
   "source": []
  }
 ],
 "metadata": {
  "kernelspec": {
   "display_name": "Python 3",
   "language": "python",
   "name": "python3"
  },
  "language_info": {
   "codemirror_mode": {
    "name": "ipython",
    "version": 3
   },
   "file_extension": ".py",
   "mimetype": "text/x-python",
   "name": "python",
   "nbconvert_exporter": "python",
   "pygments_lexer": "ipython3",
   "version": "3.6.8"
  }
 },
 "nbformat": 4,
 "nbformat_minor": 4
}
