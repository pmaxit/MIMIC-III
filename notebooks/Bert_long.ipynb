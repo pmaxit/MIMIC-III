{
 "cells": [
  {
   "cell_type": "code",
   "execution_count": 14,
   "metadata": {
    "ExecuteTime": {
     "end_time": "2020-04-21T00:29:30.817773Z",
     "start_time": "2020-04-21T00:29:30.717509Z"
    }
   },
   "outputs": [],
   "source": [
    "%load_ext autoreload\n",
    "%autoreload 2"
   ]
  },
  {
   "cell_type": "code",
   "execution_count": 15,
   "metadata": {
    "ExecuteTime": {
     "end_time": "2020-04-21T00:29:31.195138Z",
     "start_time": "2020-04-21T00:29:31.110910Z"
    }
   },
   "outputs": [],
   "source": [
    "import sys\n",
    "sys.path.insert(0,\"../src\")"
   ]
  },
  {
   "cell_type": "code",
   "execution_count": 16,
   "metadata": {
    "ExecuteTime": {
     "end_time": "2020-04-21T00:29:44.097401Z",
     "start_time": "2020-04-21T00:29:31.342564Z"
    }
   },
   "outputs": [],
   "source": [
    "import pandas as pd\n",
    "import numpy as np\n",
    "\n",
    "from fastai2 import *\n",
    "from fastai2.text.all import *\n",
    "import vectorize\n",
    "import helpers\n",
    "import transformers\n",
    "from utils import *\n",
    "from loss.loss import *"
   ]
  },
  {
   "cell_type": "markdown",
   "metadata": {},
   "source": [
    "# Load the data"
   ]
  },
  {
   "cell_type": "code",
   "execution_count": 17,
   "metadata": {
    "ExecuteTime": {
     "end_time": "2020-04-21T00:29:45.140117Z",
     "start_time": "2020-04-21T00:29:44.098335Z"
    }
   },
   "outputs": [],
   "source": [
    "full_df = pd.read_pickle(\"../data/full_df.pkl\")"
   ]
  },
  {
   "cell_type": "code",
   "execution_count": 18,
   "metadata": {
    "ExecuteTime": {
     "end_time": "2020-04-21T00:30:19.521458Z",
     "start_time": "2020-04-21T00:29:45.143050Z"
    }
   },
   "outputs": [],
   "source": [
    "MAX_VOCAB = None\n",
    "MAX_SEQ_LENGTH = 5000\n",
    "full_df['TEXT_PROCESSED'] = vectorize.clean_notes(full_df, 'TEXT')"
   ]
  },
  {
   "cell_type": "code",
   "execution_count": 19,
   "metadata": {},
   "outputs": [],
   "source": [
    "full_df['ICD9_GRP_LIST'] = full_df.ICD9_GRP.apply(lambda x: re.split(\" +\", x.strip()))"
   ]
  },
  {
   "cell_type": "code",
   "execution_count": 20,
   "metadata": {},
   "outputs": [],
   "source": [
    "def get_split(text1):\n",
    "  l_total = []\n",
    "  l_parcial = []\n",
    "  if len(text1.split())//475 >0:\n",
    "    n = len(text1.split())//475\n",
    "  else: \n",
    "    n = 1\n",
    "  for w in range(n):\n",
    "    if w == 0:\n",
    "      l_parcial = text1.split()[:512]\n",
    "      l_total.append(\" \".join(l_parcial))\n",
    "    else:\n",
    "      l_parcial = text1.split()[w*475:w*475 + 450]\n",
    "      l_total.append(\" \".join(l_parcial))\n",
    "  return l_total"
   ]
  },
  {
   "cell_type": "code",
   "execution_count": 21,
   "metadata": {},
   "outputs": [
    {
     "data": {
      "text/html": [
       "<div>\n",
       "<style scoped>\n",
       "    .dataframe tbody tr th:only-of-type {\n",
       "        vertical-align: middle;\n",
       "    }\n",
       "\n",
       "    .dataframe tbody tr th {\n",
       "        vertical-align: top;\n",
       "    }\n",
       "\n",
       "    .dataframe thead th {\n",
       "        text-align: right;\n",
       "    }\n",
       "</style>\n",
       "<table border=\"1\" class=\"dataframe\">\n",
       "  <thead>\n",
       "    <tr style=\"text-align: right;\">\n",
       "      <th></th>\n",
       "      <th>TEXT</th>\n",
       "      <th>ICD9_GRP</th>\n",
       "      <th>TEXT_PROCESSED</th>\n",
       "      <th>ICD9_GRP_LIST</th>\n",
       "      <th>TEXT_PROCESSED_SPLIT</th>\n",
       "    </tr>\n",
       "    <tr>\n",
       "      <th>HADM_ID</th>\n",
       "      <th></th>\n",
       "      <th></th>\n",
       "      <th></th>\n",
       "      <th></th>\n",
       "      <th></th>\n",
       "    </tr>\n",
       "  </thead>\n",
       "  <tbody>\n",
       "    <tr>\n",
       "      <th>100001</th>\n",
       "      <td>{Admission Date:  [**2117-9-11**]              Discharge Date:   [**2117-9-17**]\\n\\nDate of Birth:  [**2082-3-21**]             Sex:   F\\n\\nService: MEDICINE\\n\\nAllergies:\\nLevaquin\\n\\nAttending:[**First Name3 (LF) 2195**]\\nChief Complaint:\\nnausea, vomiting\\n\\n\\nMajor Surgical or Invasive Procedure:\\nnone\\n\\nHistory of Present Illness:\\n35F w/ poorly controlled Type 1 diabetes mellitus w/ neuropathy,\\nnephropathy, HTN, gastroparesis, CKD and retinopathy, recently\\nhospitalized for orthostatic hypotension [**2-3**] autonomic\\nneuropathy [**Date range (1) 25088**]; DKA hospitalizations in [...</td>\n",
       "      <td>240-279 320-389 580-629 520-579  240-279 520-579 390-459 240-279 390-459 580-629 240-279 320-389 240-279 680-709</td>\n",
       "      <td>admission date discharge date date of birth sex f service medicine allergies levaquin attending chief complaint nausea vomiting major surgical or invasive procedure none history of present illness DGf w poorly controlled type DG diabetes mellitus w neuropathy nephropathy htn gastroparesis ckd and retinopathy recently hospitalized for orthostatic hypotension autonomic neuropathy dka hospitalizations in and now returning w DGd history of worsening nausea vomiting with coffee ground emesis chills and dyspnea on exertion last week she had a fall and hit her right face she also had DG day of di...</td>\n",
       "      <td>[240-279, 320-389, 580-629, 520-579, 240-279, 520-579, 390-459, 240-279, 390-459, 580-629, 240-279, 320-389, 240-279, 680-709]</td>\n",
       "      <td>[admission date discharge date date of birth sex f service medicine allergies levaquin attending chief complaint nausea vomiting major surgical or invasive procedure none history of present illness DGf w poorly controlled type DG diabetes mellitus w neuropathy nephropathy htn gastroparesis ckd and retinopathy recently hospitalized for orthostatic hypotension autonomic neuropathy dka hospitalizations in and now returning w DGd history of worsening nausea vomiting with coffee ground emesis chills and dyspnea on exertion last week she had a fall and hit her right face she also had DG day of d...</td>\n",
       "    </tr>\n",
       "    <tr>\n",
       "      <th>100003</th>\n",
       "      <td>{Admission Date:  [**2150-4-17**]              Discharge Date:   [**2150-4-21**]\\n\\nDate of Birth:  [**2090-5-19**]             Sex:   M\\n\\nService: MEDICINE\\n\\nAllergies:\\nPatient recorded as having No Known Allergies to Drugs\\n\\nAttending:[**First Name3 (LF) 12174**]\\nChief Complaint:\\ncoffee ground emesis\\n\\nMajor Surgical or Invasive Procedure:\\nEGD\\nRight IJ CVL\\n\\n\\nHistory of Present Illness:\\nMr. [**Known lastname 52368**] is a 59M w HepC cirrhosis c/b grade I/II esophageal\\nvarices and portal gastropathy (last EGD [**3-/2150**]), who p/w\\ncoffee-ground emesis and melena x2 days.\\n...</td>\n",
       "      <td>520-579 290-319 001-139 520-579 390-459 520-579 390-459 520-579 780-789</td>\n",
       "      <td>admission date discharge date date of birth sex m service medicine allergies patient recorded as having no known allergies to drugs attending chief complaint coffee ground emesis major surgical or invasive procedure egd right ij cvl history of present illness mr is a DGm w hepc cirrhosis c b grade i ii esophageal varices and portal gastropathy last egd who p w coffee ground emesis and melena xDG days pt was in his usoh until about DG DG days pta when he began experiencing intermittent nausea he had DG DG episodes of coffee ground emesis and DG episode of tarry black stool in the morning of...</td>\n",
       "      <td>[520-579, 290-319, 001-139, 520-579, 390-459, 520-579, 390-459, 520-579, 780-789]</td>\n",
       "      <td>[admission date discharge date date of birth sex m service medicine allergies patient recorded as having no known allergies to drugs attending chief complaint coffee ground emesis major surgical or invasive procedure egd right ij cvl history of present illness mr is a DGm w hepc cirrhosis c b grade i ii esophageal varices and portal gastropathy last egd who p w coffee ground emesis and melena xDG days pt was in his usoh until about DG DG days pta when he began experiencing intermittent nausea he had DG DG episodes of coffee ground emesis and DG episode of tarry black stool in the morning o...</td>\n",
       "    </tr>\n",
       "    <tr>\n",
       "      <th>100006</th>\n",
       "      <td>{Admission Date:  [**2108-4-6**]       Discharge Date:  [**2081-4-7**]\\n\\nDate of Birth:   [**2059-5-7**]       Sex:  F\\n\\nService:  O MED\\n\\nCHIEF COMPLAINT:  Dyspnea.\\n\\nHISTORY OF PRESENT ILLNESS:  This is a 48 year old African\\nAmerican female with a history of multiple myelomas being\\nadmitted for respiratory distress.  The patient has been\\nrecently discharged one week ago from outside hospital ([**Hospital3 7900**]) for respiratory distress.  Back at [**Hospital3 7362**],\\nshe was given nebulizer, antibiotics and steroids.  She also\\nhad elevated INR and was given medication to lowe...</td>\n",
       "      <td>460-519 460-519 460-519 140-239 240-279 780-789 290-319</td>\n",
       "      <td>admission date discharge date date of birth sex f service o med chief complaint dyspnea history of present illness this is a DG year old african american female with a history of multiple myelomas being admitted for respiratory distress the patient has been recently discharged one week ago from outside hospital for respiratory distress back at she was given nebulizer antibiotics and steroids she also had elevated inr and was given medication to lower inr although there was no evidence of bleeding last night she reports having increased difficulty with breathing she has also had a cough she...</td>\n",
       "      <td>[460-519, 460-519, 460-519, 140-239, 240-279, 780-789, 290-319]</td>\n",
       "      <td>[admission date discharge date date of birth sex f service o med chief complaint dyspnea history of present illness this is a DG year old african american female with a history of multiple myelomas being admitted for respiratory distress the patient has been recently discharged one week ago from outside hospital for respiratory distress back at she was given nebulizer antibiotics and steroids she also had elevated inr and was given medication to lower inr although there was no evidence of bleeding last night she reports having increased difficulty with breathing she has also had a cough sh...</td>\n",
       "    </tr>\n",
       "    <tr>\n",
       "      <th>100007</th>\n",
       "      <td>{Admission Date:  [**2145-3-31**]              Discharge Date:   [**2145-4-7**]\\n\\nDate of Birth:  [**2071-6-4**]             Sex:   F\\n\\nService: SURGERY\\n\\nAllergies:\\nPenicillins / Dilantin\\n\\nAttending:[**First Name3 (LF) 301**]\\nChief Complaint:\\nSevere abdominal and back pain\\nUnable to take oral intake.\\nNo flatus or bowel movement.\\nAbdominal distention.\\n\\n\\nMajor Surgical or Invasive Procedure:\\nExploratory Laparotomy\\nLysis of adhesions\\nSmall Bowel Resection\\nJejunosotomy\\n\\n\\nHistory of Present Illness:\\nMs [**Known lastname **] is a 73 year old female with a history of multip...</td>\n",
       "      <td>520-579 520-579 800-999 460-519 390-459</td>\n",
       "      <td>admission date discharge date date of birth sex f service surgery allergies penicillins dilantin attending chief complaint severe abdominal and back pain unable to take oral intake no flatus or bowel movement abdominal distention major surgical or invasive procedure exploratory laparotomy lysis of adhesions small bowel resection jejunosotomy history of present illness ms is a DG year old female with a history of multiple abdominal surgeries pancreatitis and previous sbo she presented to the emergency department on with complaints of abdominal pain radiating to her back that began in the mo...</td>\n",
       "      <td>[520-579, 520-579, 800-999, 460-519, 390-459]</td>\n",
       "      <td>[admission date discharge date date of birth sex f service surgery allergies penicillins dilantin attending chief complaint severe abdominal and back pain unable to take oral intake no flatus or bowel movement abdominal distention major surgical or invasive procedure exploratory laparotomy lysis of adhesions small bowel resection jejunosotomy history of present illness ms is a DG year old female with a history of multiple abdominal surgeries pancreatitis and previous sbo she presented to the emergency department on with complaints of abdominal pain radiating to her back that began in the m...</td>\n",
       "    </tr>\n",
       "    <tr>\n",
       "      <th>100009</th>\n",
       "      <td>{Admission Date:  [**2162-5-16**]              Discharge Date:   [**2162-5-21**]\\n\\nDate of Birth:  [**2101-7-30**]             Sex:   M\\n\\nService: CARDIOTHORACIC\\n\\nAllergies:\\nNo Known Allergies / Adverse Drug Reactions\\n\\nAttending:[**First Name3 (LF) 1505**]\\nChief Complaint:\\nAngina\\n\\nMajor Surgical or Invasive Procedure:\\n[**2162-5-17**]: CABGx4 LIMA-&gt; LAD, RSVG-&gt; Diagonal, Posterior\\nDescending Artery, Obtuse marginal\\n[**2162-5-19**]: Right Atrial lead placement\\n\\n\\nHistory of Present Illness:\\n60yo man with known coronary disease (AMI in [**2143**] and [**Name Prefix (Prefixes)...</td>\n",
       "      <td>390-459 800-999 390-459 240-279 240-279  390-459 390-459   290-319 390-459 240-279 390-459 390-459</td>\n",
       "      <td>admission date discharge date date of birth sex m service cardiothoracic allergies no known allergies adverse drug reactions attending chief complaint angina major surgical or invasive procedure cabgxDG lima lad rsvg diagonal posterior descending artery obtuse marginal right atrial lead placement history of present illness DGyo man with known coronary disease ami in and lcx doing well until last week when he developed angina initially with exertion then progressed to rest angina each episode was releived with sl ntg no episode lasting more than DG minutes he presented to cardiologist for t...</td>\n",
       "      <td>[390-459, 800-999, 390-459, 240-279, 240-279, 390-459, 390-459, 290-319, 390-459, 240-279, 390-459, 390-459]</td>\n",
       "      <td>[admission date discharge date date of birth sex m service cardiothoracic allergies no known allergies adverse drug reactions attending chief complaint angina major surgical or invasive procedure cabgxDG lima lad rsvg diagonal posterior descending artery obtuse marginal right atrial lead placement history of present illness DGyo man with known coronary disease ami in and lcx doing well until last week when he developed angina initially with exertion then progressed to rest angina each episode was releived with sl ntg no episode lasting more than DG minutes he presented to cardiologist for ...</td>\n",
       "    </tr>\n",
       "  </tbody>\n",
       "</table>\n",
       "</div>"
      ],
      "text/plain": [
       "                                                                                                                                                                                                                                                                                                                                                                                                                                                                                                                                                                                                                            TEXT  \\\n",
       "HADM_ID                                                                                                                                                                                                                                                                                                                                                                                                                                                                                                                                                                                                                            \n",
       "100001   {Admission Date:  [**2117-9-11**]              Discharge Date:   [**2117-9-17**]\\n\\nDate of Birth:  [**2082-3-21**]             Sex:   F\\n\\nService: MEDICINE\\n\\nAllergies:\\nLevaquin\\n\\nAttending:[**First Name3 (LF) 2195**]\\nChief Complaint:\\nnausea, vomiting\\n\\n\\nMajor Surgical or Invasive Procedure:\\nnone\\n\\nHistory of Present Illness:\\n35F w/ poorly controlled Type 1 diabetes mellitus w/ neuropathy,\\nnephropathy, HTN, gastroparesis, CKD and retinopathy, recently\\nhospitalized for orthostatic hypotension [**2-3**] autonomic\\nneuropathy [**Date range (1) 25088**]; DKA hospitalizations in [...   \n",
       "100003   {Admission Date:  [**2150-4-17**]              Discharge Date:   [**2150-4-21**]\\n\\nDate of Birth:  [**2090-5-19**]             Sex:   M\\n\\nService: MEDICINE\\n\\nAllergies:\\nPatient recorded as having No Known Allergies to Drugs\\n\\nAttending:[**First Name3 (LF) 12174**]\\nChief Complaint:\\ncoffee ground emesis\\n\\nMajor Surgical or Invasive Procedure:\\nEGD\\nRight IJ CVL\\n\\n\\nHistory of Present Illness:\\nMr. [**Known lastname 52368**] is a 59M w HepC cirrhosis c/b grade I/II esophageal\\nvarices and portal gastropathy (last EGD [**3-/2150**]), who p/w\\ncoffee-ground emesis and melena x2 days.\\n...   \n",
       "100006   {Admission Date:  [**2108-4-6**]       Discharge Date:  [**2081-4-7**]\\n\\nDate of Birth:   [**2059-5-7**]       Sex:  F\\n\\nService:  O MED\\n\\nCHIEF COMPLAINT:  Dyspnea.\\n\\nHISTORY OF PRESENT ILLNESS:  This is a 48 year old African\\nAmerican female with a history of multiple myelomas being\\nadmitted for respiratory distress.  The patient has been\\nrecently discharged one week ago from outside hospital ([**Hospital3 7900**]) for respiratory distress.  Back at [**Hospital3 7362**],\\nshe was given nebulizer, antibiotics and steroids.  She also\\nhad elevated INR and was given medication to lowe...   \n",
       "100007   {Admission Date:  [**2145-3-31**]              Discharge Date:   [**2145-4-7**]\\n\\nDate of Birth:  [**2071-6-4**]             Sex:   F\\n\\nService: SURGERY\\n\\nAllergies:\\nPenicillins / Dilantin\\n\\nAttending:[**First Name3 (LF) 301**]\\nChief Complaint:\\nSevere abdominal and back pain\\nUnable to take oral intake.\\nNo flatus or bowel movement.\\nAbdominal distention.\\n\\n\\nMajor Surgical or Invasive Procedure:\\nExploratory Laparotomy\\nLysis of adhesions\\nSmall Bowel Resection\\nJejunosotomy\\n\\n\\nHistory of Present Illness:\\nMs [**Known lastname **] is a 73 year old female with a history of multip...   \n",
       "100009   {Admission Date:  [**2162-5-16**]              Discharge Date:   [**2162-5-21**]\\n\\nDate of Birth:  [**2101-7-30**]             Sex:   M\\n\\nService: CARDIOTHORACIC\\n\\nAllergies:\\nNo Known Allergies / Adverse Drug Reactions\\n\\nAttending:[**First Name3 (LF) 1505**]\\nChief Complaint:\\nAngina\\n\\nMajor Surgical or Invasive Procedure:\\n[**2162-5-17**]: CABGx4 LIMA-> LAD, RSVG-> Diagonal, Posterior\\nDescending Artery, Obtuse marginal\\n[**2162-5-19**]: Right Atrial lead placement\\n\\n\\nHistory of Present Illness:\\n60yo man with known coronary disease (AMI in [**2143**] and [**Name Prefix (Prefixes)...   \n",
       "\n",
       "                                                                                                                  ICD9_GRP  \\\n",
       "HADM_ID                                                                                                                      \n",
       "100001   240-279 320-389 580-629 520-579  240-279 520-579 390-459 240-279 390-459 580-629 240-279 320-389 240-279 680-709    \n",
       "100003                                             520-579 290-319 001-139 520-579 390-459 520-579 390-459 520-579 780-789   \n",
       "100006                                                           460-519 460-519 460-519 140-239 240-279 780-789 290-319     \n",
       "100007                                                                             520-579 520-579 800-999 460-519 390-459   \n",
       "100009               390-459 800-999 390-459 240-279 240-279  390-459 390-459   290-319 390-459 240-279 390-459 390-459      \n",
       "\n",
       "                                                                                                                                                                                                                                                                                                                                                                                                                                                                                                                                                                                                                  TEXT_PROCESSED  \\\n",
       "HADM_ID                                                                                                                                                                                                                                                                                                                                                                                                                                                                                                                                                                                                                            \n",
       "100001   admission date discharge date date of birth sex f service medicine allergies levaquin attending chief complaint nausea vomiting major surgical or invasive procedure none history of present illness DGf w poorly controlled type DG diabetes mellitus w neuropathy nephropathy htn gastroparesis ckd and retinopathy recently hospitalized for orthostatic hypotension autonomic neuropathy dka hospitalizations in and now returning w DGd history of worsening nausea vomiting with coffee ground emesis chills and dyspnea on exertion last week she had a fall and hit her right face she also had DG day of di...   \n",
       "100003   admission date discharge date date of birth sex m service medicine allergies patient recorded as having no known allergies to drugs attending chief complaint coffee ground emesis major surgical or invasive procedure egd right ij cvl history of present illness mr is a DGm w hepc cirrhosis c b grade i ii esophageal varices and portal gastropathy last egd who p w coffee ground emesis and melena xDG days pt was in his usoh until about DG DG days pta when he began experiencing intermittent nausea he had DG DG episodes of coffee ground emesis and DG episode of tarry black stool in the morning of...   \n",
       "100006   admission date discharge date date of birth sex f service o med chief complaint dyspnea history of present illness this is a DG year old african american female with a history of multiple myelomas being admitted for respiratory distress the patient has been recently discharged one week ago from outside hospital for respiratory distress back at she was given nebulizer antibiotics and steroids she also had elevated inr and was given medication to lower inr although there was no evidence of bleeding last night she reports having increased difficulty with breathing she has also had a cough she...   \n",
       "100007   admission date discharge date date of birth sex f service surgery allergies penicillins dilantin attending chief complaint severe abdominal and back pain unable to take oral intake no flatus or bowel movement abdominal distention major surgical or invasive procedure exploratory laparotomy lysis of adhesions small bowel resection jejunosotomy history of present illness ms is a DG year old female with a history of multiple abdominal surgeries pancreatitis and previous sbo she presented to the emergency department on with complaints of abdominal pain radiating to her back that began in the mo...   \n",
       "100009   admission date discharge date date of birth sex m service cardiothoracic allergies no known allergies adverse drug reactions attending chief complaint angina major surgical or invasive procedure cabgxDG lima lad rsvg diagonal posterior descending artery obtuse marginal right atrial lead placement history of present illness DGyo man with known coronary disease ami in and lcx doing well until last week when he developed angina initially with exertion then progressed to rest angina each episode was releived with sl ntg no episode lasting more than DG minutes he presented to cardiologist for t...   \n",
       "\n",
       "                                                                                                                          ICD9_GRP_LIST  \\\n",
       "HADM_ID                                                                                                                                   \n",
       "100001   [240-279, 320-389, 580-629, 520-579, 240-279, 520-579, 390-459, 240-279, 390-459, 580-629, 240-279, 320-389, 240-279, 680-709]   \n",
       "100003                                                [520-579, 290-319, 001-139, 520-579, 390-459, 520-579, 390-459, 520-579, 780-789]   \n",
       "100006                                                                  [460-519, 460-519, 460-519, 140-239, 240-279, 780-789, 290-319]   \n",
       "100007                                                                                    [520-579, 520-579, 800-999, 460-519, 390-459]   \n",
       "100009                     [390-459, 800-999, 390-459, 240-279, 240-279, 390-459, 390-459, 290-319, 390-459, 240-279, 390-459, 390-459]   \n",
       "\n",
       "                                                                                                                                                                                                                                                                                                                                                                                                                                                                                                                                                                                                            TEXT_PROCESSED_SPLIT  \n",
       "HADM_ID                                                                                                                                                                                                                                                                                                                                                                                                                                                                                                                                                                                                                           \n",
       "100001   [admission date discharge date date of birth sex f service medicine allergies levaquin attending chief complaint nausea vomiting major surgical or invasive procedure none history of present illness DGf w poorly controlled type DG diabetes mellitus w neuropathy nephropathy htn gastroparesis ckd and retinopathy recently hospitalized for orthostatic hypotension autonomic neuropathy dka hospitalizations in and now returning w DGd history of worsening nausea vomiting with coffee ground emesis chills and dyspnea on exertion last week she had a fall and hit her right face she also had DG day of d...  \n",
       "100003   [admission date discharge date date of birth sex m service medicine allergies patient recorded as having no known allergies to drugs attending chief complaint coffee ground emesis major surgical or invasive procedure egd right ij cvl history of present illness mr is a DGm w hepc cirrhosis c b grade i ii esophageal varices and portal gastropathy last egd who p w coffee ground emesis and melena xDG days pt was in his usoh until about DG DG days pta when he began experiencing intermittent nausea he had DG DG episodes of coffee ground emesis and DG episode of tarry black stool in the morning o...  \n",
       "100006   [admission date discharge date date of birth sex f service o med chief complaint dyspnea history of present illness this is a DG year old african american female with a history of multiple myelomas being admitted for respiratory distress the patient has been recently discharged one week ago from outside hospital for respiratory distress back at she was given nebulizer antibiotics and steroids she also had elevated inr and was given medication to lower inr although there was no evidence of bleeding last night she reports having increased difficulty with breathing she has also had a cough sh...  \n",
       "100007   [admission date discharge date date of birth sex f service surgery allergies penicillins dilantin attending chief complaint severe abdominal and back pain unable to take oral intake no flatus or bowel movement abdominal distention major surgical or invasive procedure exploratory laparotomy lysis of adhesions small bowel resection jejunosotomy history of present illness ms is a DG year old female with a history of multiple abdominal surgeries pancreatitis and previous sbo she presented to the emergency department on with complaints of abdominal pain radiating to her back that began in the m...  \n",
       "100009   [admission date discharge date date of birth sex m service cardiothoracic allergies no known allergies adverse drug reactions attending chief complaint angina major surgical or invasive procedure cabgxDG lima lad rsvg diagonal posterior descending artery obtuse marginal right atrial lead placement history of present illness DGyo man with known coronary disease ami in and lcx doing well until last week when he developed angina initially with exertion then progressed to rest angina each episode was releived with sl ntg no episode lasting more than DG minutes he presented to cardiologist for ...  "
      ]
     },
     "execution_count": 21,
     "metadata": {},
     "output_type": "execute_result"
    }
   ],
   "source": [
    "full_df['TEXT_PROCESSED_SPLIT'] = full_df['TEXT_PROCESSED'].apply(get_split)\n",
    "full_df.head()"
   ]
  },
  {
   "cell_type": "code",
   "execution_count": 22,
   "metadata": {},
   "outputs": [],
   "source": [
    "def fix_max_splits(x, max_split=3):\n",
    "    lsplit = len(x)\n",
    "    res = []\n",
    "    for i in range(0,min(lsplit, max_split)):\n",
    "        if len(x[i]) == 0:\n",
    "            res.append([\"[PAD]\"])\n",
    "        else:\n",
    "            res.append(x[i])\n",
    "    for i in range(i+1, max_split):\n",
    "        res.append([\"[PAD]\"])\n",
    "    #print(len(res))\n",
    "    return res"
   ]
  },
  {
   "cell_type": "code",
   "execution_count": 23,
   "metadata": {},
   "outputs": [],
   "source": [
    "full_df['TEXT_PROCESSED_MAX_SPLIT'] = full_df.apply(lambda x: fix_max_splits(x['TEXT_PROCESSED_SPLIT']),1)"
   ]
  },
  {
   "cell_type": "code",
   "execution_count": 24,
   "metadata": {},
   "outputs": [
    {
     "data": {
      "text/plain": [
       "<matplotlib.axes._subplots.AxesSubplot at 0x7f7a72a2c588>"
      ]
     },
     "execution_count": 24,
     "metadata": {},
     "output_type": "execute_result"
    },
    {
     "data": {
      "image/png": "[encoded data removed]",
      "text/plain": [
       "<Figure size 432x288 with 1 Axes>"
      ]
     },
     "metadata": {
      "needs_background": "light"
     },
     "output_type": "display_data"
    }
   ],
   "source": [
    "full_df.TEXT_PROCESSED_MAX_SPLIT.apply(lambda x: len(x)).plot.hist()"
   ]
  },
  {
   "cell_type": "markdown",
   "metadata": {
    "ExecuteTime": {
     "end_time": "2020-04-19T20:15:55.355592Z",
     "start_time": "2020-04-19T20:15:55.099912Z"
    }
   },
   "source": [
    "# Training"
   ]
  },
  {
   "cell_type": "markdown",
   "metadata": {},
   "source": [
    "Create Item Transformations"
   ]
  },
  {
   "cell_type": "code",
   "execution_count": 25,
   "metadata": {},
   "outputs": [],
   "source": [
    "from transformers import *\n",
    "\n",
    "MODEL_CLASS = [\n",
    "    [AlbertConfig, AlbertModel, 'albert-base-v2', AlbertTokenizer],\n",
    "    [BertConfig, BertModel, 'bert-base-uncased', BertTokenizer]\n",
    "]\n",
    "\n",
    "idx=0"
   ]
  },
  {
   "cell_type": "code",
   "execution_count": 26,
   "metadata": {},
   "outputs": [],
   "source": [
    "\n",
    "bert_tok = MODEL_CLASS[idx][3].from_pretrained(MODEL_CLASS[idx][2])\n",
    "\n",
    "fastai_bert_vocab = bert_tok.vocab_size"
   ]
  },
  {
   "cell_type": "code",
   "execution_count": 27,
   "metadata": {},
   "outputs": [],
   "source": [
    "sample_df = full_df.sample(frac=0.1,random_state=123)"
   ]
  },
  {
   "cell_type": "code",
   "execution_count": 28,
   "metadata": {
    "ExecuteTime": {
     "end_time": "2020-04-21T01:09:32.609424Z",
     "start_time": "2020-04-21T01:09:26.073352Z"
    }
   },
   "outputs": [],
   "source": [
    "item_tfms= [[ColReader('TEXT_PROCESSED_MAX_SPLIT'), FastAIBertTokenizer2(tokenizer=bert_tok,max_seq_len=512,fill_to_max=True)],\n",
    "            [ColReader('ICD9_GRP_LIST') , MultiCategorize, OneHotEncode]\n",
    "           ]\n",
    "\n",
    "# Create datasource & dataloaders \n",
    "\n",
    "splits = RandomSplitter()(range_of(sample_df))\n",
    "dsrc = Datasets(sample_df, tfms=item_tfms, splits=splits)\n",
    "dls = dsrc.dataloaders(bs=4)"
   ]
  },
  {
   "cell_type": "code",
   "execution_count": 29,
   "metadata": {},
   "outputs": [
    {
     "data": {
      "text/plain": [
       "(#17) ['001-139','140-239','240-279','290-319','320-389','390-459','460-519','520-579','580-629','630-679'...]"
      ]
     },
     "execution_count": 29,
     "metadata": {},
     "output_type": "execute_result"
    }
   ],
   "source": [
    "dsrc.tfms[1].vocab"
   ]
  },
  {
   "cell_type": "code",
   "execution_count": 30,
   "metadata": {
    "ExecuteTime": {
     "end_time": "2020-04-21T01:09:33.070698Z",
     "start_time": "2020-04-21T01:09:32.610358Z"
    }
   },
   "outputs": [],
   "source": [
    "b = dls.one_batch()"
   ]
  },
  {
   "cell_type": "markdown",
   "metadata": {},
   "source": [
    "Showing batch"
   ]
  },
  {
   "cell_type": "code",
   "execution_count": 31,
   "metadata": {
    "ExecuteTime": {
     "end_time": "2020-04-21T01:09:33.072633Z",
     "start_time": "2020-04-21T01:09:28.328Z"
    }
   },
   "outputs": [],
   "source": [
    "@typedispatch\n",
    "def show_batch(x, y, samples, ctxs=None, max_n=9, **kwargs):\n",
    "    if ctxs is None: ctxs = Inf.nones\n",
    "    \n",
    "    # samples[0] contains str , samples[1] contains str\n",
    "    text_samples = []\n",
    "    label_samples = []\n",
    "    for i in range_of(samples):\n",
    "        text_samples.append(samples[i][0][0][300:500])\n",
    "        actual_labels = [l for l in samples[i][1] if l != \"\"]\n",
    "        label_samples.append(actual_labels)\n",
    "    \n",
    "    df = pd.DataFrame({'Text': text_samples, 'Label': label_samples})\n",
    "    display_df(df)\n",
    "\n",
    "    return ctxs"
   ]
  },
  {
   "cell_type": "code",
   "execution_count": 32,
   "metadata": {},
   "outputs": [],
   "source": [
    "@typedispatch\n",
    "def show_results(x, y, samples, outs, ctxs=None, max_n=9, **kwargs):\n",
    "    if ctxs is None: ctxs = Inf.nones\n",
    "        \n",
    "        # samples[0] contains str , samples[1] contains str\n",
    "    text_samples = []\n",
    "    label_samples = []\n",
    "    result_samples = []\n",
    "    for i in range_of(samples):\n",
    "        text_samples.append(samples[i][0][0][300:500])\n",
    "        actual_labels = [l for l in samples[i][1] if l != \"\"]\n",
    "        label_samples.append(actual_labels)\n",
    "        result_samples.append(outs[i][0])\n",
    "    df = pd.DataFrame({'Text': text_samples, 'Label': label_samples,'Result': result_samples})\n",
    "    display_df(df)\n",
    "    \n",
    "    return ctxs"
   ]
  },
  {
   "cell_type": "code",
   "execution_count": 33,
   "metadata": {
    "ExecuteTime": {
     "end_time": "2020-04-21T01:09:33.073638Z",
     "start_time": "2020-04-21T01:09:28.777Z"
    }
   },
   "outputs": [
    {
     "data": {
      "text/html": [
       "<table border=\"1\" class=\"dataframe\">\n",
       "  <thead>\n",
       "    <tr style=\"text-align: right;\">\n",
       "      <th></th>\n",
       "      <th>Text</th>\n",
       "      <th>Label</th>\n",
       "    </tr>\n",
       "  </thead>\n",
       "  <tbody>\n",
       "    <tr>\n",
       "      <th>0</th>\n",
       "      <td>ng fatigue and weakness associated with weight gain over the last several days patient is very somnlent on interview but he is able to relate that he has generally felt unwell for the past several mon</td>\n",
       "      <td>[240-279, 290-319, 320-389, 390-459, 460-519, 580-629, 780-789]</td>\n",
       "    </tr>\n",
       "    <tr>\n",
       "      <th>1</th>\n",
       "      <td>ocarcinoma to the liver and peritoneum status post multiple failed chemotherapeutic regimens as well as disease progression despite palliative chemo and xrt who initially presented yesterday with abdo</td>\n",
       "      <td>[001-139, 140-239, 240-279, 390-459, 520-579, 780-789, 800-999]</td>\n",
       "    </tr>\n",
       "    <tr>\n",
       "      <th>2</th>\n",
       "      <td>ld right handed woman with a large posterior scalp mass but no other significant medical history who was brought to an osh after having been found down and head ct was concerning for a right parietal</td>\n",
       "      <td>[001-139, 240-279, 320-389, 390-459, 460-519, 680-709, 710-739, 780-789, 790-796, 800-999]</td>\n",
       "    </tr>\n",
       "    <tr>\n",
       "      <th>3</th>\n",
       "      <td>ferred from with chest and back pain she underwent a cat scan which revealed the presence of a contained rupture of a descending thoracic aneurysm based on these findings the patient was consented for</td>\n",
       "      <td>[240-279, 390-459]</td>\n",
       "    </tr>\n",
       "  </tbody>\n",
       "</table>"
      ],
      "text/plain": [
       "<IPython.core.display.HTML object>"
      ]
     },
     "metadata": {},
     "output_type": "display_data"
    }
   ],
   "source": [
    "dls.show_batch(b)"
   ]
  },
  {
   "cell_type": "markdown",
   "metadata": {},
   "source": [
    "# Modelling"
   ]
  },
  {
   "cell_type": "code",
   "execution_count": 34,
   "metadata": {
    "ExecuteTime": {
     "end_time": "2020-04-21T01:09:33.073638Z",
     "start_time": "2020-04-21T01:09:29.585Z"
    }
   },
   "outputs": [],
   "source": [
    "from models.lstm_attn import *\n",
    "from models.lstm import *\n",
    "from models.bert_clinical import *\n",
    "from loss.loss import *\n",
    "from fastai2.metrics import *\n",
    "from transformers import BertModel, BertConfig\n",
    "from utils import *"
   ]
  },
  {
   "cell_type": "code",
   "execution_count": 36,
   "metadata": {},
   "outputs": [
    {
     "data": {
      "text/plain": [
       "(#17) ['001-139','140-239','240-279','290-319','320-389','390-459','460-519','520-579','580-629','630-679'...]"
      ]
     },
     "execution_count": 36,
     "metadata": {},
     "output_type": "execute_result"
    }
   ],
   "source": [
    "dsrc.tfms[1].vocab"
   ]
  },
  {
   "cell_type": "code",
   "execution_count": 38,
   "metadata": {
    "ExecuteTime": {
     "end_time": "2020-04-21T01:09:33.074642Z",
     "start_time": "2020-04-21T01:09:29.979Z"
    }
   },
   "outputs": [],
   "source": [
    "V = fastai_bert_vocab\n",
    "E = 50\n",
    "C = len(dsrc.tfms[1].vocab)"
   ]
  },
  {
   "cell_type": "code",
   "execution_count": null,
   "metadata": {},
   "outputs": [],
   "source": [
    "#load_wordvectors(glove_path)\n",
    "glove_path = \"../data\"\n",
    "weights_matrix = get_glove_matrix(glove_path, fastai_bert_vocab, emb_dim=E)"
   ]
  },
  {
   "cell_type": "code",
   "execution_count": 39,
   "metadata": {
    "ExecuteTime": {
     "end_time": "2020-04-21T01:09:33.075643Z",
     "start_time": "2020-04-21T01:09:30.402Z"
    }
   },
   "outputs": [],
   "source": [
    "# Loss function\n",
    "loss_func = ICD_Loss(ignore_index=0)\n",
    "\n",
    "# Metrics\n",
    "acc_02 = partial(accuracy_multi, thresh=0.5)\n",
    "f_score = F1ScoreMulti(thresh=0.2)\n",
    "\n",
    "# Configuration\n",
    "config = MODEL_CLASS[idx][0].from_pretrained(MODEL_CLASS[idx][2]) \n",
    "\n",
    "# bert Model from configuration\n",
    "bert = MODEL_CLASS[idx][1](config)\n",
    "\n",
    "# Model\n",
    "model = BertClinical(bert, config=config, num_labels=C)\n",
    "#model = BiLSTMWithBertEmbedding(config,V=V, E=E, C=C)\n",
    "#model = SelfAttentionLSTM(V=V, E=E, C=C, weights_matrix=weights_matrix)\n",
    "model.freeze_bert_encoder()"
   ]
  },
  {
   "cell_type": "code",
   "execution_count": 40,
   "metadata": {
    "ExecuteTime": {
     "end_time": "2020-04-21T01:09:33.075643Z",
     "start_time": "2020-04-21T01:09:31.340Z"
    }
   },
   "outputs": [],
   "source": [
    "learn = Learner(dls, model, loss_func = loss_func, metrics=[acc_02, f_score])"
   ]
  },
  {
   "cell_type": "code",
   "execution_count": null,
   "metadata": {},
   "outputs": [],
   "source": [
    "del dls, learn\n",
    "torch.cuda.empty_cache()"
   ]
  },
  {
   "cell_type": "code",
   "execution_count": 41,
   "metadata": {
    "ExecuteTime": {
     "end_time": "2020-04-21T01:09:33.076646Z",
     "start_time": "2020-04-21T01:09:32.097Z"
    }
   },
   "outputs": [
    {
     "data": {
      "text/html": [],
      "text/plain": [
       "<IPython.core.display.HTML object>"
      ]
     },
     "metadata": {},
     "output_type": "display_data"
    },
    {
     "data": {
      "text/plain": [
       "(0.0019054606556892395, 0.002511886414140463)"
      ]
     },
     "execution_count": 41,
     "metadata": {},
     "output_type": "execute_result"
    },
    {
     "data": {
      "image/png": "[encoded data removed]",
      "text/plain": [
       "<Figure size 432x288 with 1 Axes>"
      ]
     },
     "metadata": {
      "needs_background": "light"
     },
     "output_type": "display_data"
    }
   ],
   "source": [
    "learn.lr_find()"
   ]
  },
  {
   "cell_type": "code",
   "execution_count": null,
   "metadata": {
    "ExecuteTime": {
     "end_time": "2020-04-20T23:14:44.005992Z",
     "start_time": "2020-04-20T22:34:34.908864Z"
    }
   },
   "outputs": [
    {
     "data": {
      "text/html": [
       "\n",
       "    <div>\n",
       "        <style>\n",
       "            /* Turns off some styling */\n",
       "            progress {\n",
       "                /* gets rid of default border in Firefox and Opera. */\n",
       "                border: none;\n",
       "                /* Needs to be in here for Safari polyfill so background images work as expected. */\n",
       "                background-size: auto;\n",
       "            }\n",
       "            .progress-bar-interrupted, .progress-bar-interrupted::-webkit-progress-bar {\n",
       "                background: #F44336;\n",
       "            }\n",
       "        </style>\n",
       "      <progress value='0' class='' max='1', style='width:300px; height:20px; vertical-align: middle;'></progress>\n",
       "      0.00% [0/1 00:00<00:00]\n",
       "    </div>\n",
       "    \n",
       "<table border=\"1\" class=\"dataframe\">\n",
       "  <thead>\n",
       "    <tr style=\"text-align: left;\">\n",
       "      <th>epoch</th>\n",
       "      <th>train_loss</th>\n",
       "      <th>valid_loss</th>\n",
       "      <th>accuracy_multi</th>\n",
       "      <th>f1_score</th>\n",
       "      <th>time</th>\n",
       "    </tr>\n",
       "  </thead>\n",
       "  <tbody>\n",
       "  </tbody>\n",
       "</table><p>\n",
       "\n",
       "    <div>\n",
       "        <style>\n",
       "            /* Turns off some styling */\n",
       "            progress {\n",
       "                /* gets rid of default border in Firefox and Opera. */\n",
       "                border: none;\n",
       "                /* Needs to be in here for Safari polyfill so background images work as expected. */\n",
       "                background-size: auto;\n",
       "            }\n",
       "            .progress-bar-interrupted, .progress-bar-interrupted::-webkit-progress-bar {\n",
       "                background: #F44336;\n",
       "            }\n",
       "        </style>\n",
       "      <progress value='199' class='' max='1054', style='width:300px; height:20px; vertical-align: middle;'></progress>\n",
       "      18.88% [199/1054 01:03<04:34 0.5052]\n",
       "    </div>\n",
       "    "
      ],
      "text/plain": [
       "<IPython.core.display.HTML object>"
      ]
     },
     "metadata": {},
     "output_type": "display_data"
    }
   ],
   "source": [
    "learn.fit_one_cycle(1, lr_max=10e-3)\n",
    "learn.save('bert_1epoch')"
   ]
  },
  {
   "cell_type": "code",
   "execution_count": null,
   "metadata": {},
   "outputs": [],
   "source": []
  },
  {
   "cell_type": "code",
   "execution_count": null,
   "metadata": {},
   "outputs": [],
   "source": [
    "learn.save('3epoch')"
   ]
  },
  {
   "cell_type": "code",
   "execution_count": null,
   "metadata": {},
   "outputs": [],
   "source": [
    "learn.load('3epoch')"
   ]
  },
  {
   "cell_type": "code",
   "execution_count": null,
   "metadata": {},
   "outputs": [],
   "source": [
    "learn.fit_one_cycle(10, lr_max=10e-6)\n",
    "learn.save('10epoch')"
   ]
  },
  {
   "cell_type": "markdown",
   "metadata": {},
   "source": [
    "# Show results"
   ]
  },
  {
   "cell_type": "code",
   "execution_count": null,
   "metadata": {},
   "outputs": [],
   "source": [
    "learn.recorder.plot_loss()"
   ]
  },
  {
   "cell_type": "code",
   "execution_count": null,
   "metadata": {},
   "outputs": [],
   "source": [
    "learn.show_results()"
   ]
  },
  {
   "cell_type": "code",
   "execution_count": null,
   "metadata": {},
   "outputs": [],
   "source": [
    "preds,targs = learn.get_preds()\n"
   ]
  },
  {
   "cell_type": "code",
   "execution_count": null,
   "metadata": {},
   "outputs": [],
   "source": [
    "accuracy_multi(preds, targs, thresh=0.9, sigmoid=False)\n"
   ]
  },
  {
   "cell_type": "code",
   "execution_count": null,
   "metadata": {},
   "outputs": [],
   "source": [
    "xs = torch.linspace(0.05,0.95,29)\n",
    "accs = [accuracy_multi(preds, targs, thresh=i, sigmoid=False) for i in xs]\n",
    "plt.plot(xs,accs);"
   ]
  },
  {
   "cell_type": "code",
   "execution_count": null,
   "metadata": {},
   "outputs": [],
   "source": [
    "[[k,v] for k,v in zip(xs, accs)]"
   ]
  },
  {
   "cell_type": "markdown",
   "metadata": {},
   "source": [
    "SelfAttentionWithLSTM\n",
    "\n",
    "3 epoch:\n",
    "\n",
    "10 epoch:\n",
    "\n"
   ]
  },
  {
   "cell_type": "code",
   "execution_count": null,
   "metadata": {},
   "outputs": [],
   "source": []
  }
 ],
 "metadata": {
  "kernelspec": {
   "display_name": "Python 3",
   "language": "python",
   "name": "python3"
  },
  "language_info": {
   "codemirror_mode": {
    "name": "ipython",
    "version": 3
   },
   "file_extension": ".py",
   "mimetype": "text/x-python",
   "name": "python",
   "nbconvert_exporter": "python",
   "pygments_lexer": "ipython3",
   "version": "3.6.8"
  }
 },
 "nbformat": 4,
 "nbformat_minor": 4
}
